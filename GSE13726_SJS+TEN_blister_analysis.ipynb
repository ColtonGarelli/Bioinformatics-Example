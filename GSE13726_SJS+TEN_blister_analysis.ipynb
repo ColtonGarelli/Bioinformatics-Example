{
 "cells": [
  {
   "cell_type": "markdown",
   "metadata": {
    "collapsed": true
   },
   "source": [
    "GSE13726 analysis"
   ]
  },
  {
   "cell_type": "code",
   "execution_count": 1,
   "metadata": {},
   "outputs": [
    {
     "name": "stderr",
     "output_type": "stream",
     "text": [
      "/Users/coltongarelli/anaconda3/envs/ExprArch/lib/python3.7/site-packages/rpy2/robjects/pandas2ri.py:14: FutureWarning: pandas.core.index is deprecated and will be removed in a future version.  The public classes are available in the top-level namespace.\n",
      "  from pandas.core.index import Index as PandasIndex\n",
      "R[write to console]: No methods found in package 'RSQLite' for request: 'dbListFields' when loading 'oligo'\n",
      "\n",
      "R[write to console]: No methods found in package 'RSQLite' for request: 'dbListFields' when loading 'lumi'\n",
      "\n"
     ]
    }
   ],
   "source": [
    "%matplotlib inline\n",
    "import matplotlib\n",
    "import matplotlib.pyplot as plt\n",
    "import pandas as pd\n",
    "from ExpressionTools import pyXset, pyEset, EsetPrep"
   ]
  },
  {
   "cell_type": "code",
   "execution_count": 3,
   "metadata": {},
   "outputs": [
    {
     "name": "stderr",
     "output_type": "stream",
     "text": [
      "R[write to console]: Found 1 file(s)\n",
      "\n",
      "R[write to console]: GSE13726_series_matrix.txt.gz\n",
      "\n",
      "R[write to console]: trying URL 'https://ftp.ncbi.nlm.nih.gov/geo/series/GSE13nnn/GSE13726/matrix/GSE13726_series_matrix.txt.gz'\n",
      "\n",
      "R[write to console]: Content type 'application/x-gzip'\n",
      "R[write to console]:  length 1218944 bytes (1.2 MB)\n",
      "\n",
      "R[write to console]: =\n",
      "R[write to console]: =\n",
      "R[write to console]: =\n",
      "R[write to console]: =\n",
      "R[write to console]: =\n",
      "R[write to console]: =\n",
      "R[write to console]: =\n",
      "R[write to console]: =\n",
      "R[write to console]: =\n",
      "R[write to console]: =\n",
      "R[write to console]: =\n",
      "R[write to console]: =\n",
      "R[write to console]: =\n",
      "R[write to console]: =\n",
      "R[write to console]: =\n",
      "R[write to console]: =\n",
      "R[write to console]: =\n",
      "R[write to console]: =\n",
      "R[write to console]: =\n",
      "R[write to console]: =\n",
      "R[write to console]: =\n",
      "R[write to console]: =\n",
      "R[write to console]: =\n",
      "R[write to console]: =\n",
      "R[write to console]: =\n",
      "R[write to console]: =\n",
      "R[write to console]: =\n",
      "R[write to console]: =\n",
      "R[write to console]: =\n",
      "R[write to console]: =\n",
      "R[write to console]: =\n",
      "R[write to console]: =\n",
      "R[write to console]: =\n",
      "R[write to console]: =\n",
      "R[write to console]: =\n",
      "R[write to console]: =\n",
      "R[write to console]: =\n",
      "R[write to console]: =\n",
      "R[write to console]: =\n",
      "R[write to console]: =\n",
      "R[write to console]: =\n",
      "R[write to console]: =\n",
      "R[write to console]: =\n",
      "R[write to console]: =\n",
      "R[write to console]: =\n",
      "R[write to console]: =\n",
      "R[write to console]: =\n",
      "R[write to console]: =\n",
      "R[write to console]: =\n",
      "R[write to console]: =\n",
      "R[write to console]: \n",
      "\n",
      "R[write to console]: downloaded 1.2 MB\n",
      "\n",
      "\n",
      "R[write to console]: Parsed with column specification:\n",
      "cols(\n",
      "  ID_REF = col_character(),\n",
      "  GSM341453 = col_double(),\n",
      "  GSM344536 = col_double(),\n",
      "  GSM344541 = col_double(),\n",
      "  GSM344552 = col_double(),\n",
      "  GSM344557 = col_double()\n",
      ")\n",
      "\n",
      "R[write to console]: File stored at: \n",
      "\n",
      "R[write to console]: data/GPL570.annot.gz\n",
      "\n",
      "R[write to console]: Warning:\n",
      "R[write to console]:  62 parsing failures.\n",
      "  row             col           expected    actual         file\n",
      "54614 Platform_SPOTID 1/0/T/F/TRUE/FALSE --Control literal data\n",
      "54615 Platform_SPOTID 1/0/T/F/TRUE/FALSE --Control literal data\n",
      "54616 Platform_SPOTID 1/0/T/F/TRUE/FALSE --Control literal data\n",
      "54617 Platform_SPOTID 1/0/T/F/TRUE/FALSE --Control literal data\n",
      "54618 Platform_SPOTID 1/0/T/F/TRUE/FALSE --Control literal data\n",
      "..... ............... .................. ......... ............\n",
      "See problems(...) for more details.\n",
      "\n",
      "\n"
     ]
    }
   ],
   "source": [
    "prep = EsetPrep.GeoPrep(\"GSE13726\", \"data\")\n",
    "prep.load_geo()"
   ]
  },
  {
   "cell_type": "code",
   "execution_count": 5,
   "outputs": [
    {
     "data": {
      "text/plain": "array([[3.61416e+02, 7.74113e+02, 5.17599e+02, 8.89620e+02, 6.50353e+02],\n       [4.25975e+02, 5.03060e+02, 4.32301e+02, 3.96846e+02, 4.33380e+02],\n       [6.17380e+03, 5.38384e+03, 2.20756e+03, 1.28006e+03, 1.20798e+03],\n       ...,\n       [3.54029e+00, 6.87839e+00, 4.22762e+00, 1.01304e+01, 7.97774e+00],\n       [9.35041e+01, 5.81859e+01, 1.98910e+01, 1.64224e+02, 1.35312e+01],\n       [6.87013e+00, 8.80638e+00, 3.04077e+00, 1.30992e+01, 1.66231e+01]])"
     },
     "execution_count": 5,
     "metadata": {},
     "output_type": "execute_result"
    }
   ],
   "source": [
    "prep.eset.exprs"
   ],
   "metadata": {
    "collapsed": false,
    "pycharm": {
     "name": "#%%\n"
    }
   }
  },
  {
   "cell_type": "code",
   "execution_count": 6,
   "outputs": [
    {
     "data": {
      "text/plain": "                        title geo_accession                 status  \\\nGSM341453  SJS blister cell 1     GSM341453  Public on Dec 04 2008   \nGSM344536  SJS blister cell 2     GSM344536  Public on Dec 04 2008   \nGSM344541  SJS blister cell 3     GSM344541  Public on Dec 04 2008   \nGSM344552  SJS blister cell 4     GSM344552  Public on Dec 04 2008   \nGSM344557  SJS blister cell 5     GSM344557  Public on Dec 04 2008   \n\n          submission_date last_update_date type channel_count  \\\nGSM341453     Nov 11 2008      Aug 28 2018  RNA             1   \nGSM344536     Nov 21 2008      Aug 28 2018  RNA             1   \nGSM344541     Nov 21 2008      Aug 28 2018  RNA             1   \nGSM344552     Nov 21 2008      Aug 28 2018  RNA             1   \nGSM344557     Nov 21 2008      Aug 28 2018  RNA             1   \n\n             source_name_ch1  organism_ch1                characteristics_ch1  \\\nGSM341453  SJS blister cells  Homo sapiens  SJS blister cells in active stage   \nGSM344536  SJS blister cells  Homo sapiens  SJS blister cells in active stage   \nGSM344541  SJS blister cells  Homo sapiens  SJS blister cells in active stage   \nGSM344552  SJS blister cells  Homo sapiens  SJS blister cells in active stage   \nGSM344557  SJS blister cells  Homo sapiens  SJS blister cells in active stage   \n\n           ... contact_department             contact_institute  \\\nGSM341453  ...        Dermatology  Chang Gung Memorial Hospital   \nGSM344536  ...        Dermatology  Chang Gung Memorial Hospital   \nGSM344541  ...        Dermatology  Chang Gung Memorial Hospital   \nGSM344552  ...        Dermatology  Chang Gung Memorial Hospital   \nGSM344557  ...        Dermatology  Chang Gung Memorial Hospital   \n\n                     contact_address contact_city contact_zip/postal_code  \\\nGSM341453  199, Tung-Hwa North Road        Taipei                     105   \nGSM344536  199, Tung-Hwa North Road        Taipei                     105   \nGSM344541  199, Tung-Hwa North Road        Taipei                     105   \nGSM344552  199, Tung-Hwa North Road        Taipei                     105   \nGSM344557  199, Tung-Hwa North Road        Taipei                     105   \n\n          contact_country                                 supplementary_file  \\\nGSM341453          Taiwan  ftp://ftp.ncbi.nlm.nih.gov/geo/samples/GSM341n...   \nGSM344536          Taiwan  ftp://ftp.ncbi.nlm.nih.gov/geo/samples/GSM344n...   \nGSM344541          Taiwan  ftp://ftp.ncbi.nlm.nih.gov/geo/samples/GSM344n...   \nGSM344552          Taiwan  ftp://ftp.ncbi.nlm.nih.gov/geo/samples/GSM344n...   \nGSM344557          Taiwan  ftp://ftp.ncbi.nlm.nih.gov/geo/samples/GSM344n...   \n\n                                        supplementary_file.1 data_row_count  \\\nGSM341453  ftp://ftp.ncbi.nlm.nih.gov/geo/samples/GSM341n...          54675   \nGSM344536  ftp://ftp.ncbi.nlm.nih.gov/geo/samples/GSM344n...          54675   \nGSM344541  ftp://ftp.ncbi.nlm.nih.gov/geo/samples/GSM344n...          54675   \nGSM344552  ftp://ftp.ncbi.nlm.nih.gov/geo/samples/GSM344n...          54675   \nGSM344557  ftp://ftp.ncbi.nlm.nih.gov/geo/samples/GSM344n...          54675   \n\n                           relation  \nGSM341453  Reanalyzed by: GSE119087  \nGSM344536  Reanalyzed by: GSE119087  \nGSM344541  Reanalyzed by: GSE119087  \nGSM344552  Reanalyzed by: GSE119087  \nGSM344557  Reanalyzed by: GSE119087  \n\n[5 rows x 36 columns]",
      "text/html": "<div>\n<style scoped>\n    .dataframe tbody tr th:only-of-type {\n        vertical-align: middle;\n    }\n\n    .dataframe tbody tr th {\n        vertical-align: top;\n    }\n\n    .dataframe thead th {\n        text-align: right;\n    }\n</style>\n<table border=\"1\" class=\"dataframe\">\n  <thead>\n    <tr style=\"text-align: right;\">\n      <th></th>\n      <th>title</th>\n      <th>geo_accession</th>\n      <th>status</th>\n      <th>submission_date</th>\n      <th>last_update_date</th>\n      <th>type</th>\n      <th>channel_count</th>\n      <th>source_name_ch1</th>\n      <th>organism_ch1</th>\n      <th>characteristics_ch1</th>\n      <th>...</th>\n      <th>contact_department</th>\n      <th>contact_institute</th>\n      <th>contact_address</th>\n      <th>contact_city</th>\n      <th>contact_zip/postal_code</th>\n      <th>contact_country</th>\n      <th>supplementary_file</th>\n      <th>supplementary_file.1</th>\n      <th>data_row_count</th>\n      <th>relation</th>\n    </tr>\n  </thead>\n  <tbody>\n    <tr>\n      <th>GSM341453</th>\n      <td>SJS blister cell 1</td>\n      <td>GSM341453</td>\n      <td>Public on Dec 04 2008</td>\n      <td>Nov 11 2008</td>\n      <td>Aug 28 2018</td>\n      <td>RNA</td>\n      <td>1</td>\n      <td>SJS blister cells</td>\n      <td>Homo sapiens</td>\n      <td>SJS blister cells in active stage</td>\n      <td>...</td>\n      <td>Dermatology</td>\n      <td>Chang Gung Memorial Hospital</td>\n      <td>199, Tung-Hwa North Road</td>\n      <td>Taipei</td>\n      <td>105</td>\n      <td>Taiwan</td>\n      <td>ftp://ftp.ncbi.nlm.nih.gov/geo/samples/GSM341n...</td>\n      <td>ftp://ftp.ncbi.nlm.nih.gov/geo/samples/GSM341n...</td>\n      <td>54675</td>\n      <td>Reanalyzed by: GSE119087</td>\n    </tr>\n    <tr>\n      <th>GSM344536</th>\n      <td>SJS blister cell 2</td>\n      <td>GSM344536</td>\n      <td>Public on Dec 04 2008</td>\n      <td>Nov 21 2008</td>\n      <td>Aug 28 2018</td>\n      <td>RNA</td>\n      <td>1</td>\n      <td>SJS blister cells</td>\n      <td>Homo sapiens</td>\n      <td>SJS blister cells in active stage</td>\n      <td>...</td>\n      <td>Dermatology</td>\n      <td>Chang Gung Memorial Hospital</td>\n      <td>199, Tung-Hwa North Road</td>\n      <td>Taipei</td>\n      <td>105</td>\n      <td>Taiwan</td>\n      <td>ftp://ftp.ncbi.nlm.nih.gov/geo/samples/GSM344n...</td>\n      <td>ftp://ftp.ncbi.nlm.nih.gov/geo/samples/GSM344n...</td>\n      <td>54675</td>\n      <td>Reanalyzed by: GSE119087</td>\n    </tr>\n    <tr>\n      <th>GSM344541</th>\n      <td>SJS blister cell 3</td>\n      <td>GSM344541</td>\n      <td>Public on Dec 04 2008</td>\n      <td>Nov 21 2008</td>\n      <td>Aug 28 2018</td>\n      <td>RNA</td>\n      <td>1</td>\n      <td>SJS blister cells</td>\n      <td>Homo sapiens</td>\n      <td>SJS blister cells in active stage</td>\n      <td>...</td>\n      <td>Dermatology</td>\n      <td>Chang Gung Memorial Hospital</td>\n      <td>199, Tung-Hwa North Road</td>\n      <td>Taipei</td>\n      <td>105</td>\n      <td>Taiwan</td>\n      <td>ftp://ftp.ncbi.nlm.nih.gov/geo/samples/GSM344n...</td>\n      <td>ftp://ftp.ncbi.nlm.nih.gov/geo/samples/GSM344n...</td>\n      <td>54675</td>\n      <td>Reanalyzed by: GSE119087</td>\n    </tr>\n    <tr>\n      <th>GSM344552</th>\n      <td>SJS blister cell 4</td>\n      <td>GSM344552</td>\n      <td>Public on Dec 04 2008</td>\n      <td>Nov 21 2008</td>\n      <td>Aug 28 2018</td>\n      <td>RNA</td>\n      <td>1</td>\n      <td>SJS blister cells</td>\n      <td>Homo sapiens</td>\n      <td>SJS blister cells in active stage</td>\n      <td>...</td>\n      <td>Dermatology</td>\n      <td>Chang Gung Memorial Hospital</td>\n      <td>199, Tung-Hwa North Road</td>\n      <td>Taipei</td>\n      <td>105</td>\n      <td>Taiwan</td>\n      <td>ftp://ftp.ncbi.nlm.nih.gov/geo/samples/GSM344n...</td>\n      <td>ftp://ftp.ncbi.nlm.nih.gov/geo/samples/GSM344n...</td>\n      <td>54675</td>\n      <td>Reanalyzed by: GSE119087</td>\n    </tr>\n    <tr>\n      <th>GSM344557</th>\n      <td>SJS blister cell 5</td>\n      <td>GSM344557</td>\n      <td>Public on Dec 04 2008</td>\n      <td>Nov 21 2008</td>\n      <td>Aug 28 2018</td>\n      <td>RNA</td>\n      <td>1</td>\n      <td>SJS blister cells</td>\n      <td>Homo sapiens</td>\n      <td>SJS blister cells in active stage</td>\n      <td>...</td>\n      <td>Dermatology</td>\n      <td>Chang Gung Memorial Hospital</td>\n      <td>199, Tung-Hwa North Road</td>\n      <td>Taipei</td>\n      <td>105</td>\n      <td>Taiwan</td>\n      <td>ftp://ftp.ncbi.nlm.nih.gov/geo/samples/GSM344n...</td>\n      <td>ftp://ftp.ncbi.nlm.nih.gov/geo/samples/GSM344n...</td>\n      <td>54675</td>\n      <td>Reanalyzed by: GSE119087</td>\n    </tr>\n  </tbody>\n</table>\n<p>5 rows × 36 columns</p>\n</div>"
     },
     "execution_count": 6,
     "metadata": {},
     "output_type": "execute_result"
    }
   ],
   "source": [],
   "metadata": {
    "collapsed": false,
    "pycharm": {
     "name": "#%%\n"
    }
   }
  },
  {
   "cell_type": "code",
   "execution_count": null,
   "outputs": [],
   "source": [
    "\n"
   ],
   "metadata": {
    "collapsed": false,
    "pycharm": {
     "name": "#%%\n"
    }
   }
  }
 ],
 "metadata": {
  "kernelspec": {
   "name": "exprarch",
   "language": "python",
   "display_name": "ExprArch"
  },
  "language_info": {
   "codemirror_mode": {
    "name": "ipython",
    "version": 2
   },
   "file_extension": ".py",
   "mimetype": "text/x-python",
   "name": "python",
   "nbconvert_exporter": "python",
   "pygments_lexer": "ipython2",
   "version": "2.7.6"
  }
 },
 "nbformat": 4,
 "nbformat_minor": 1
}