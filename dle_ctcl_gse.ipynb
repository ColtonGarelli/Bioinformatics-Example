{
 "cells": [
  {
   "cell_type": "code",
   "execution_count": 1,
   "metadata": {},
   "outputs": [
    {
     "name": "stderr",
     "output_type": "stream",
     "text": [
      "/Users/coltongarelli/anaconda3/envs/GeneNetworking/lib/python3.7/site-packages/rpy2/ipython/rmagic.py:85: UserWarning: The Python package `pandas` is strongly recommended when using `rpy2.ipython`. Unfortunately it could not be loaded, as we did not manage to load `numpy` in the first place (error: No module named 'numpy').\n",
      "  'in the first place (error: %s).' % str(ie))\n"
     ]
    }
   ],
   "source": [
    "%load_ext rpy2.ipython\n",
    "\n"
   ]
  },
  {
   "cell_type": "code",
   "execution_count": 2,
   "metadata": {},
   "outputs": [
    {
     "name": "stderr",
     "output_type": "stream",
     "text": [
      "R[write to console]: Loading required package: AnnotationDbi\n",
      "\n",
      "R[write to console]: Loading required package: stats4\n",
      "\n",
      "R[write to console]: Loading required package: BiocGenerics\n",
      "\n",
      "R[write to console]: Loading required package: parallel\n",
      "\n",
      "R[write to console]: \n",
      "Attaching package: ‘BiocGenerics’\n",
      "\n",
      "\n",
      "R[write to console]: The following objects are masked from ‘package:parallel’:\n",
      "\n",
      "    clusterApply, clusterApplyLB, clusterCall, clusterEvalQ,\n",
      "    clusterExport, clusterMap, parApply, parCapply, parLapply,\n",
      "    parLapplyLB, parRapply, parSapply, parSapplyLB\n",
      "\n",
      "\n",
      "R[write to console]: The following objects are masked from ‘package:stats’:\n",
      "\n",
      "    IQR, mad, sd, var, xtabs\n",
      "\n",
      "\n",
      "R[write to console]: The following objects are masked from ‘package:base’:\n",
      "\n",
      "    Filter, Find, Map, Position, Reduce, anyDuplicated, append,\n",
      "    as.data.frame, basename, cbind, colnames, dirname, do.call,\n",
      "    duplicated, eval, evalq, get, grep, grepl, intersect, is.unsorted,\n",
      "    lapply, mapply, match, mget, order, paste, pmax, pmax.int, pmin,\n",
      "    pmin.int, rank, rbind, rownames, sapply, setdiff, sort, table,\n",
      "    tapply, union, unique, unsplit, which, which.max, which.min\n",
      "\n",
      "\n",
      "R[write to console]: Loading required package: Biobase\n",
      "\n",
      "R[write to console]: Welcome to Bioconductor\n",
      "\n",
      "    Vignettes contain introductory material; view with\n",
      "    'browseVignettes()'. To cite Bioconductor, see\n",
      "    'citation(\"Biobase\")', and for packages 'citation(\"pkgname\")'.\n",
      "\n",
      "\n",
      "R[write to console]: Loading required package: IRanges\n",
      "\n",
      "R[write to console]: Loading required package: S4Vectors\n",
      "\n",
      "R[write to console]: \n",
      "Attaching package: ‘S4Vectors’\n",
      "\n",
      "\n",
      "R[write to console]: The following object is masked from ‘package:base’:\n",
      "\n",
      "    expand.grid\n",
      "\n",
      "\n",
      "R[write to console]: \n",
      "\n"
     ]
    }
   ],
   "source": [
    "%%R\n",
    "\n",
    "library(org.Hs.eg.db)"
   ]
  },
  {
   "cell_type": "code",
   "execution_count": 3,
   "metadata": {},
   "outputs": [],
   "source": [
    "%%R\n",
    "e_ctcl <- read.csv('/Users/coltongarelli/Desktop/GSE113113_stage1_DE.csv')\n",
    "filt <- c(\n",
    "    'gene', 'logFC', 'adj.P.Val')\n",
    "l_ctcl <- read.csv('/Users/coltongarelli/Desktop/GSE113113_stage2_DE.csv')\n",
    "dle <- read.csv('/Users/coltongarelli/Desktop/GSE95474 DLE diffex collapsed probes.csv')\n",
    "e_ctcl <- e_ctcl[ ,filt]\n",
    "l_ctcl <- l_ctcl[ ,filt]\n",
    "dle <- dle[ ,filt]\n",
    "dle <- dle[abs(dle$logFC) > 1.0,]\n",
    "dle <- dle[dle$adj.P.Val < 0.05,]\n",
    "\n",
    "e_ctcl <- e_ctcl[abs(e_ctcl$logFC) > 1.0,]\n",
    "e_ctcl <- e_ctcl[e_ctcl$adj.P.Val < 0.05,]\n",
    "\n",
    "l_ctcl <- l_ctcl[abs(l_ctcl$logFC) > 1.0,]\n",
    "l_ctcl <- l_ctcl[l_ctcl$adj.P.Val < 0.05,]"
   ]
  },
  {
   "cell_type": "code",
   "execution_count": 4,
   "metadata": {},
   "outputs": [],
   "source": [
    "%%R\n",
    "dle_simp <- dle[c('gene', 'logFC')]\n",
    "ec_simp <- e_ctcl[c('gene', 'logFC')]\n",
    "lc_simp <- l_ctcl[c('gene', 'logFC')]"
   ]
  },
  {
   "cell_type": "code",
   "execution_count": 5,
   "metadata": {},
   "outputs": [],
   "source": [
    "%%R\n",
    "\n",
    "\n",
    "rownames(dle_simp) <- dle_simp$gene\n",
    "# dle_simp$gene <- NULL\n",
    "dle_simp <- dle_simp[order(dle_simp$logFC, decreasing=TRUE),]\n",
    "# dle_simp\n",
    "\n",
    "rownames(ec_simp) <- ec_simp$gene\n",
    "# ec_simp$gene <- NULL\n",
    "ec_simp <- ec_simp[order(ec_simp$logFC, decreasing=TRUE),]\n",
    "\n",
    "rownames(lc_simp) <- lc_simp$gene\n",
    "# lc_simp$gene <- NULL\n",
    "lc_simp <- lc_simp[order(lc_simp$logFC, decreasing=TRUE),]"
   ]
  },
  {
   "cell_type": "code",
   "execution_count": 6,
   "metadata": {},
   "outputs": [
    {
     "name": "stderr",
     "output_type": "stream",
     "text": [
      "R[write to console]: \n",
      "\n",
      "R[write to console]: Registered S3 method overwritten by 'enrichplot':\n",
      "  method               from\n",
      "  fortify.enrichResult DOSE\n",
      "\n",
      "R[write to console]: 'select()' returned 1:many mapping between keys and columns\n",
      "\n"
     ]
    }
   ],
   "source": [
    "%%R\n",
    "# IDs\n",
    "dle_symbols <- clusterProfiler::bitr(rownames(dle_simp), fromType='ALIAS', toType='ENTREZID', OrgDb='org.Hs.eg.db')\n",
    "dle_symbols$gene <- dle_symbols$ALIAS\n",
    "dle_symbols$ALIAS <- NULL\n",
    "dle_entrez <- merge(dle_simp, dle_symbols, by.y='gene')"
   ]
  },
  {
   "cell_type": "code",
   "execution_count": 7,
   "metadata": {},
   "outputs": [],
   "source": [
    "%%R\n",
    "options(max.print=1000)\n",
    "\n",
    "\n",
    "dle_agg <- aggregate(dle_simp$logFC,\n",
    "          by = list(gene = dle_simp$gene),\n",
    "          FUN = mean,\n",
    "          na.rm = TRUE)\n",
    "# dle_agg <- dle_agg[order(dle_agg$x, decreasing=TRUE),]\n",
    "# dle_agg\n",
    "# dle_entrez\n",
    "# rownames(dle_agg) <- dle_agg$entrez\n",
    "# dle_agg$entrez <- NULL\n",
    "rownames(dle_simp)<-dle_simp$gene\n",
    "dle_simp$gene <- NULL\n",
    "dle_vec <- unlist(dle_simp)\n",
    "names(dle_vec) <- rownames(dle_simp)\n",
    "# dle_agg\n",
    "dle_gsego <- clusterProfiler::gseGO(geneList= dle_vec,\n",
    "              OrgDb        = 'org.Hs.eg.db',\n",
    "              ont          = \"BP\",\n",
    "              nPerm        = 1000,\n",
    "              minGSSize    = 100,\n",
    "              maxGSSize    = 500,\n",
    "              pvalueCutoff = 0.05,\n",
    "              verbose      = FALSE,\n",
    "              keyType      = 'SYMBOL')"
   ]
  },
  {
   "cell_type": "code",
   "execution_count": null,
   "metadata": {},
   "outputs": [],
   "source": [
    "%%R\n"
   ]
  },
  {
   "cell_type": "code",
   "execution_count": null,
   "metadata": {},
   "outputs": [],
   "source": [
    "%%R\n",
    "\n",
    "dle_gsego\n",
    "dle_vec \n",
    "\n",
    "# pdf(file='/Users/coltongarelli/Desktop/dle_go_graph_GSE95474.pdf', height=15, width=15)\n",
    "# dle_gog <- clusterProfiler::plotGOgraph(dle_gsego[100:nrow(dle_gsego),], firstSigNodes=100)\n",
    "# print(dle_gog)\n",
    "# dev.off()"
   ]
  },
  {
   "cell_type": "code",
   "execution_count": null,
   "metadata": {},
   "outputs": [],
   "source": [
    "%%R\n",
    "pdf(file='/Users/coltongarelli/Desktop/dle_circ_cnet_fc_GSE95474.pdf', height=15, width=15)\n",
    "dle_gog <- clusterProfiler::cnetplot(y, foldChange=dle_vec, showCategory=10, colorEdge=TRUE)\n",
    "print(dle_gog)\n",
    "dev.off()"
   ]
  },
  {
   "cell_type": "code",
   "execution_count": 8,
   "metadata": {},
   "outputs": [
    {
     "name": "stderr",
     "output_type": "stream",
     "text": [
      "R[write to console]: \n",
      "Attaching package: ‘clusterProfiler.dplyr’\n",
      "\n",
      "\n",
      "R[write to console]: The following object is masked from ‘package:AnnotationDbi’:\n",
      "\n",
      "    select\n",
      "\n",
      "\n",
      "R[write to console]: The following object is masked from ‘package:IRanges’:\n",
      "\n",
      "    slice\n",
      "\n",
      "\n",
      "R[write to console]: The following object is masked from ‘package:S4Vectors’:\n",
      "\n",
      "    rename\n",
      "\n",
      "\n",
      "R[write to console]: The following object is masked from ‘package:stats’:\n",
      "\n",
      "    filter\n",
      "\n",
      "\n",
      "R[write to console]: Error: 'upsetplot' is not an exported object from 'namespace:DOSE'\n",
      "\n",
      "R[write to console]: In addition: \n",
      "R[write to console]: Warning messages:\n",
      "\n",
      "R[write to console]: 1: \n",
      "R[write to console]: In clusterProfiler::bitr(rownames(dle_simp), fromType = \"ALIAS\",  :\n",
      "R[write to console]: \n",
      " \n",
      "R[write to console]:  20.59% of input gene IDs are fail to map...\n",
      "\n",
      "R[write to console]: 2: \n",
      "R[write to console]: In fgsea(pathways = geneSets, stats = geneList, nperm = nPerm, minSize = minGSSize,  :\n",
      "R[write to console]: \n",
      " \n",
      "R[write to console]:  There were 1 pathways for which P-values were not calculated properly due to unbalanced gene-level statistic values\n",
      "\n",
      "R[write to console]: 3: The `add` argument of `group_by()` is deprecated as of dplyr 1.0.0.\n",
      "Please use the `.add` argument instead.\n",
      "This warning is displayed once every 8 hours.\n",
      "Call `lifecycle::last_warnings()` to see where this warning was generated. \n",
      "\n"
     ]
    },
    {
     "name": "stdout",
     "output_type": "stream",
     "text": [
      "\n",
      "Error: 'upsetplot' is not an exported object from 'namespace:DOSE'\n"
     ]
    }
   ],
   "source": [
    "%%R\n",
    "# install.packages(\"devtools\")\n",
    "# devtools::install_github(\"YuLab-SMU/clusterProfiler.dplyr\", repos='http://cran.us.r-project.org')\n",
    "library(clusterProfiler.dplyr)\n",
    "y <- clusterProfiler.dplyr::arrange(dle_gsego, abs(NES)) %>% \n",
    "        clusterProfiler.dplyr::group_by(sign(NES)) %>% \n",
    "        clusterProfiler.dplyr::slice(1:200)\n",
    "DOSE::upsetplot(y)\n",
    "# clusterProfiler::cnetplot(y)"
   ]
  },
  {
   "cell_type": "code",
   "execution_count": null,
   "metadata": {},
   "outputs": [],
   "source": [
    "%%R\n",
    "\n",
    "dle_kegg <- clusterProfiler::compareCluster(rownames(dle_simp), fun=\"enrichKEGG\", organism='hsa', pvalueCutoff=0.05)\n",
    "clusterProfiler::emapplot(dle_kegg)"
   ]
  },
  {
   "cell_type": "code",
   "execution_count": null,
   "metadata": {},
   "outputs": [],
   "source": [
    "%%R\n",
    "dle_symbols <- clusterProfiler::bitr(rownames(dle_simp), fromType='ALIAS', toType='KEGGID', OrgDb='org.Hs.eg.db')\n",
    "\n",
    "# clusterProfiler::emapplot(dle_kegg)\n"
   ]
  },
  {
   "cell_type": "code",
   "execution_count": null,
   "metadata": {},
   "outputs": [],
   "source": [
    "%%R\n",
    "library(DOSE)\n",
    "pdf(file='/Users/coltongarelli/Desktop/dle_emap_fc_GSE95474.pdf', height=15, width=15)\n",
    "dle_gog <- clusterProfiler::emapplot(dle_gsego[100:,])\n",
    "print(dle_gog)\n",
    "dev.off()"
   ]
  },
  {
   "cell_type": "code",
   "execution_count": null,
   "metadata": {},
   "outputs": [],
   "source": [
    "%%R\n",
    "ec_gsego <- clusterProfiler::gseGO(geneList= ec_simp,\n",
    "              OrgDb        = 'org.Hs.eg.db',\n",
    "              ont          = \"BP\",\n",
    "              nPerm        = 1000,\n",
    "              minGSSize    = 100,\n",
    "              maxGSSize    = 500,\n",
    "              pvalueCutoff = 0.05,\n",
    "              verbose      = FALSE)"
   ]
  },
  {
   "cell_type": "code",
   "execution_count": null,
   "metadata": {},
   "outputs": [],
   "source": [
    "%%R\n",
    "lc_gsego <- clusterProfiler::gseGO(geneList= lc_simp,\n",
    "              OrgDb        = 'org.Hs.eg.db',\n",
    "              ont          = \"BP\",\n",
    "              nPerm        = 1000,\n",
    "              minGSSize    = 100,\n",
    "              maxGSSize    = 500,\n",
    "              pvalueCutoff = 0.05,\n",
    "              verbose      = FALSE)"
   ]
  },
  {
   "cell_type": "code",
   "execution_count": null,
   "metadata": {},
   "outputs": [],
   "source": [
    "%%R\n",
    "\n"
   ]
  },
  {
   "cell_type": "code",
   "execution_count": null,
   "metadata": {},
   "outputs": [],
   "source": [
    "%%R\n",
    "\n"
   ]
  },
  {
   "cell_type": "code",
   "execution_count": null,
   "metadata": {},
   "outputs": [],
   "source": []
  },
  {
   "cell_type": "code",
   "execution_count": null,
   "metadata": {},
   "outputs": [],
   "source": []
  }
 ],
 "metadata": {
  "kernelspec": {
   "display_name": "Python 3.x",
   "language": "python",
   "name": "python3"
  },
  "language_info": {
   "codemirror_mode": {
    "name": "ipython",
    "version": 3
   },
   "file_extension": ".py",
   "mimetype": "text/x-python",
   "name": "python",
   "nbconvert_exporter": "python",
   "pygments_lexer": "ipython3",
   "version": "3"
  },
  "vscode": {
   "interpreter": {
    "hash": "31f2aee4e71d21fbe5cf8b01ff0e069b9275f58929596ceb00d14d90e3e16cd6"
   }
  }
 },
 "nbformat": 4,
 "nbformat_minor": 1
}
