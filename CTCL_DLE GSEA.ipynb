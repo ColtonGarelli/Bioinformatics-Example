{
 "cells": [
  {
   "cell_type": "code",
   "execution_count": 1,
   "metadata": {},
   "outputs": [],
   "source": [
    "import pandas as pd\n",
    "from AnalysisTools import gsea\n",
    "from VizTools import heatmap"
   ]
  },
  {
   "cell_type": "code",
   "execution_count": 2,
   "metadata": {
    "pycharm": {
     "name": "#%%\n"
    }
   },
   "outputs": [],
   "source": [
    "hdir = '/Users/coltongarelli/Desktop'\n",
    "df = pd.read_csv(hdir+'/GSE113113_data_final copy.txt', index_col=0, delimiter='\\t')\n",
    "length = df.shape[1] -3\n"
   ]
  },
  {
   "cell_type": "code",
   "execution_count": 3,
   "metadata": {},
   "outputs": [
    {
     "data": {
      "text/plain": [
       "46"
      ]
     },
     "execution_count": 3,
     "metadata": {},
     "output_type": "execute_result"
    }
   ],
   "source": [
    "length-3"
   ]
  },
  {
   "cell_type": "code",
   "execution_count": 4,
   "metadata": {
    "pycharm": {
     "name": "#%%\n"
    }
   },
   "outputs": [
    {
     "name": "stderr",
     "output_type": "stream",
     "text": [
      "2020-07-08 09:41:01,734 Warning: dropping duplicated gene names, only keep the first values\n"
     ]
    },
    {
     "data": {
      "text/plain": [
       "<gseapy.gsea.GSEA at 0x7ff9b070a890>"
      ]
     },
     "execution_count": 4,
     "metadata": {},
     "output_type": "execute_result"
    }
   ],
   "source": [
    "ct_classes = [*['CTCL']*length, *['Healthy']*3]\n",
    "ct_gs = gsea.GSEAnalysis(hdir)\n",
    "ct_gs.run_gsea(df, ct_classes, 'AnalysisTools/gsea_databases/msigdb_hallmarks.gmt')\n"
   ]
  },
  {
   "cell_type": "code",
   "execution_count": 5,
   "metadata": {},
   "outputs": [],
   "source": [
    "dle = pd.read_csv('/Users/coltongarelli/Desktop/GSE95474_dle_normalized_expression.csv', index_col=0)\n",
    "scle = pd.read_csv('/Users/coltongarelli/Desktop/GSE95474_scle_normalized_expression.csv', index_col=0)\n",
    "\n",
    "\n"
   ]
  },
  {
   "cell_type": "code",
   "execution_count": 6,
   "metadata": {},
   "outputs": [
    {
     "name": "stderr",
     "output_type": "stream",
     "text": [
      "2020-07-08 09:42:36,709 Warning: dropping duplicated gene names, only keep the first values\n",
      "2020-07-08 09:42:36,726 Warning: Input data contains NA, filled NA with 0\n",
      "2020-07-08 09:45:20,409 Warning: dropping duplicated gene names, only keep the first values\n",
      "2020-07-08 09:45:20,438 Warning: Input data contains NA, filled NA with 0\n"
     ]
    },
    {
     "data": {
      "text/plain": [
       "<gseapy.gsea.GSEA at 0x7ff997a87510>"
      ]
     },
     "execution_count": 6,
     "metadata": {},
     "output_type": "execute_result"
    }
   ],
   "source": [
    "dle_classes = [*['DLE']*6, *['Healthy']*5]\n",
    "scle_classes = [*['SCLE']*5, *['Healthy']*5]\n",
    "dle_gs = gsea.GSEAnalysis(hdir+'/dle')\n",
    "dle_gs.run_gsea(dle, dle_classes, 'AnalysisTools/gsea_databases/msigdb_hallmarks.gmt')\n",
    "scle_gs = gsea.GSEAnalysis(hdir + \"/scle\")\n",
    "scle_gs.run_gsea(scle, scle_classes, 'AnalysisTools/gsea_databases/msigdb_hallmarks.gmt')\n",
    "\n"
   ]
  },
  {
   "cell_type": "code",
   "execution_count": 6,
   "metadata": {},
   "outputs": [],
   "source": [
    "%load https://towardsdatascience.com/10-practical-tips-you-need-to-know-to-personalize-jupyter-notebook-fbd202777e20"
   ]
  },
  {
   "cell_type": "code",
   "execution_count": null,
   "metadata": {},
   "outputs": [],
   "source": []
  }
 ],
 "metadata": {
  "kernelspec": {
   "display_name": "Python 3.8.2 64-bit",
   "language": "python",
   "name": "python3"
  },
  "language_info": {
   "codemirror_mode": {
    "name": "ipython",
    "version": 3
   },
   "file_extension": ".py",
   "mimetype": "text/x-python",
   "name": "python",
   "nbconvert_exporter": "python",
   "pygments_lexer": "ipython3",
   "version": "3"
  },
  "vscode": {
   "interpreter": {
    "hash": "31f2aee4e71d21fbe5cf8b01ff0e069b9275f58929596ceb00d14d90e3e16cd6"
   }
  }
 },
 "nbformat": 4,
 "nbformat_minor": 1
}
