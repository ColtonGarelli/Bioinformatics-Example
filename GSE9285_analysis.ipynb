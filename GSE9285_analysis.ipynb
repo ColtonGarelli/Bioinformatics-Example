{
 "cells": [
  {
   "cell_type": "markdown",
   "metadata": {
    "collapsed": true,
    "pycharm": {
     "name": "#%% md\n"
    }
   },
   "source": [
    "Some title stuff and other background"
   ]
  },
  {
   "cell_type": "markdown",
   "source": [
    "Import necessary packages"
   ],
   "metadata": {
    "collapsed": false
   }
  },
  {
   "cell_type": "code",
   "execution_count": 1,
   "outputs": [
    {
     "name": "stderr",
     "text": [
      "/Users/coltongarelli/anaconda3/envs/ExprArch/lib/python3.7/site-packages/rpy2/robjects/pandas2ri.py:14: FutureWarning: pandas.core.index is deprecated and will be removed in a future version.  The public classes are available in the top-level namespace.\n",
      "  from pandas.core.index import Index as PandasIndex\n",
      "R[write to console]: No methods found in package 'RSQLite' for request: 'dbListFields' when loading 'oligo'\n",
      "\n",
      "R[write to console]: No methods found in package 'RSQLite' for request: 'dbListFields' when loading 'lumi'\n",
      "\n"
     ],
     "output_type": "stream"
    }
   ],
   "source": [
    "from IPython.utils import io\n",
    "import pandas as pd\n",
    "from XpressArchitect import Xpress, gsea"
   ],
   "metadata": {
    "collapsed": false,
    "pycharm": {
     "name": "#%%\n",
     "is_executing": false
    }
   }
  },
  {
   "cell_type": "markdown",
   "source": [
    "Load the data"
   ],
   "metadata": {
    "collapsed": false
   }
  },
  {
   "cell_type": "code",
   "execution_count": 2,
   "outputs": [],
   "source": [
    "save_dir = \"/Users/coltongarelli/Desktop/testing_exprarch\"\n",
    "with io.capture_output() as captured:\n",
    "    gse9285 = Xpress.GEOXpress('GSE9285', save_dir);"
   ],
   "metadata": {
    "collapsed": false,
    "pycharm": {
     "name": "#%%\n",
     "is_executing": false
    }
   }
  },
  {
   "cell_type": "markdown",
   "source": [
    "Define groups"
   ],
   "metadata": {
    "collapsed": false
   }
  },
  {
   "cell_type": "code",
   "execution_count": 11,
   "outputs": [],
   "source": [
    "diffuse_dssc = [\"GSM236379\", \"GSM236380\", \"GSM236381\", \"GSM236383\", \"GSM236386\",\n",
    "                \"GSM236387\", \"GSM236388\", \"GSM236389\", \"GSM236399\", \"GSM236400\",\n",
    "                \"GSM236401\", \"GSM236402\", \"GSM236403\", \"GSM236405\", \"GSM236450\",\n",
    "                \"GSM236451\", \"GSM236452\", \"GSM236453\"]\n",
    "inflamm_dssc = [\"GSM236390\", \"GSM236391\", \"GSM236392\", \"GSM236393\", \"GSM236396\", \"GSM236397\"]\n",
    "\n",
    "morphea = [\"GSM236429\", \"GSM236432\", \"GSM236433\"]\n",
    "\n",
    "limited_lssc = [\"GSM236413\", \"GSM236414\", \"GSM236420\", \"GSM236421\", \"GSM236422\", \"GSM236423\"]\n",
    "inflamm_lssc = [\"GSM236424\", \"GSM236425\", \"GSM236426\", \"GSM236427\"]\n",
    "normal = [\"GSM236436\", \"GSM236437\", \"GSM236440\", \"GSM236441\", \"GSM236442\",\n",
    "          \"GSM236443\", \"GSM236445\", \"GSM236446\", \"GSM236447\", \"GSM236448\"]\n",
    "\n"
   ],
   "metadata": {
    "collapsed": false,
    "pycharm": {
     "name": "#%%\n",
     "is_executing": false
    }
   }
  },
  {
   "cell_type": "code",
   "execution_count": 12,
   "outputs": [],
   "source": [
    "idx_name = 'GENE'\n",
    "gene_index = gse9285.eset.feature_data[idx_name]\n",
    "\n",
    "d_dssc = gse9285.eset.exprs_df[[item for sublist in [diffuse_dssc, normal] for item in sublist]]\n",
    "d_dssc = d_dssc.join(gene_index)\n",
    "d_dssc.set_index(idx_name, inplace=True)\n",
    "\n",
    "i_dssc = gse9285.eset.exprs_df[[item for sublist in [inflamm_dssc, normal] for item in sublist]]\n",
    "i_dssc = i_dssc.join(gene_index)\n",
    "i_dssc.set_index(idx_name, inplace=True)\n",
    "\n",
    "l_lssc = gse9285.eset.exprs_df[[item for sublist in [limited_lssc, normal] for item in sublist]]\n",
    "l_lssc = l_lssc.join(gene_index, how='inner')\n",
    "l_lssc.set_index(idx_name, inplace=True)\n",
    "\n",
    "i_lssc = gse9285.eset.exprs_df[[item for sublist in [inflamm_lssc, normal] for item in sublist]]\n",
    "i_lssc = i_lssc.join(gene_index)\n",
    "i_lssc.set_index(idx_name, inplace=True)\n",
    "\n",
    "morph = gse9285.eset.exprs_df[[item for sublist in [morphea, normal] for item in sublist]]\n",
    "morph = morph.join(gene_index)\n",
    "morph.set_index(idx_name, inplace=True)"
   ],
   "metadata": {
    "collapsed": false,
    "pycharm": {
     "name": "#%%\n",
     "is_executing": false
    }
   }
  },
  {
   "cell_type": "code",
   "execution_count": 13,
   "outputs": [],
   "source": [
    "dd_classes = [*['dDSSc']* len(diffuse_dssc), *['Healthy'] * len(normal)]\n",
    "id_classes = [*['iDSSc']* len(inflamm_dssc), *['Healthy'] * len(normal)]\n",
    "ll_classes = [*['lLSSc']* len(limited_lssc), *['Healthy'] * len(normal)]\n",
    "il_classes = [*['iLSSc']* len(inflamm_lssc), *['Healthy'] * len(normal)]\n",
    "morph_classes = [*['Morphea']* len(morphea), *['Healthy'] * len(normal)]\n",
    "\n"
   ],
   "metadata": {
    "collapsed": false,
    "pycharm": {
     "name": "#%%\n",
     "is_executing": false
    }
   }
  },
  {
   "cell_type": "code",
   "execution_count": 14,
   "outputs": [],
   "source": [
    "base_save = '/Users/coltongarelli/Desktop/testing_exprarch/GSE9285'\n",
    "ddssc_gsea = gsea.RunGSEA(base_out_directory=base_save, extension='/gsea/ddssc')\n",
    "idssc_gsea = gsea.RunGSEA(base_out_directory=base_save, extension='/gsea/idssc')\n",
    "llssc_gsea = gsea.RunGSEA(base_out_directory=base_save, extension='/gsea/llssc')\n",
    "ilssc_gsea = gsea.RunGSEA(base_out_directory=base_save, extension='/gsea/ilssc')\n",
    "morph_gsea = gsea.RunGSEA(base_out_directory=base_save, extension='/gsea/morphea')\n"
   ],
   "metadata": {
    "collapsed": false,
    "pycharm": {
     "name": "#%%\n",
     "is_executing": false
    }
   }
  },
  {
   "cell_type": "code",
   "execution_count": 15,
   "outputs": [
    {
     "name": "stderr",
     "text": [
      "2020-05-04 15:19:55,472 Warning: dropping duplicated gene names, only keep the first values\n",
      "2020-05-04 15:19:55,484 Warning: Input data contains NA, filled NA with 0\n",
      "2020-05-04 15:20:32,573 Warning: dropping duplicated gene names, only keep the first values\n",
      "2020-05-04 15:20:32,591 Warning: Input data contains NA, filled NA with 0\n",
      "2020-05-04 15:21:06,373 Warning: dropping duplicated gene names, only keep the first values\n",
      "2020-05-04 15:21:06,390 Warning: Input data contains NA, filled NA with 0\n",
      "2020-05-04 15:21:38,798 Warning: dropping duplicated gene names, only keep the first values\n",
      "2020-05-04 15:21:38,807 Warning: Input data contains NA, filled NA with 0\n",
      "2020-05-04 15:22:13,154 Warning: dropping duplicated gene names, only keep the first values\n",
      "2020-05-04 15:22:13,164 Warning: Input data contains NA, filled NA with 0\n"
     ],
     "output_type": "stream"
    },
    {
     "data": {
      "text/plain": "<gseapy.gsea.GSEA at 0x133424fd0>"
     },
     "metadata": {},
     "output_type": "execute_result",
     "execution_count": 15
    }
   ],
   "source": [
    "db = '../gsea_databases/msigdb_hallmarks.gmt'\n",
    "ddssc_gsea.run_gsea(d_dssc * -1, dd_classes, db, db_name=\"msigdb_hallmarks.gmt\")\n",
    "idssc_gsea.run_gsea(i_dssc * -1, id_classes, db, db_name=\"msigdb_hallmarks.gmt\")\n",
    "llssc_gsea.run_gsea(l_lssc * -1, ll_classes, db, db_name=\"msigdb_hallmarks.gmt\")\n",
    "ilssc_gsea.run_gsea(i_lssc * -1, il_classes, db, db_name=\"msigdb_hallmarks.gmt\")\n",
    "morph_gsea.run_gsea(morph * -1, morph_classes, db, db_name=\"msigdb_hallmarks.gmt\")\n"
   ],
   "metadata": {
    "collapsed": false,
    "pycharm": {
     "name": "#%%\n",
     "is_executing": false
    }
   }
  }
 ],
 "metadata": {
  "kernelspec": {
   "name": "exprarch",
   "language": "python",
   "display_name": "ExprArch"
  },
  "language_info": {
   "codemirror_mode": {
    "name": "ipython",
    "version": 2
   },
   "file_extension": ".py",
   "mimetype": "text/x-python",
   "name": "python",
   "nbconvert_exporter": "python",
   "pygments_lexer": "ipython2",
   "version": "2.7.6"
  },
  "pycharm": {
   "stem_cell": {
    "cell_type": "raw",
    "source": [],
    "metadata": {
     "collapsed": false
    }
   }
  }
 },
 "nbformat": 4,
 "nbformat_minor": 0
}