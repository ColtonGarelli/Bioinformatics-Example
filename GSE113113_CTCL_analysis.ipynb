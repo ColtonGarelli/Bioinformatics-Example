{
 "cells": [
  {
   "cell_type": "markdown",
   "metadata": {
    "collapsed": true,
    "pycharm": {
     "name": "#%% md\n"
    }
   },
   "source": [
    "GSE113113"
   ]
  },
  {
   "cell_type": "code",
   "execution_count": 1,
   "metadata": {
    "pycharm": {
     "name": "#%%\n"
    }
   },
   "outputs": [
    {
     "name": "stderr",
     "output_type": "stream",
     "text": [
      "/Users/coltongarelli/anaconda3/envs/ExprArch/lib/python3.7/site-packages/rpy2/robjects/pandas2ri.py:14: FutureWarning: pandas.core.index is deprecated and will be removed in a future version.  The public classes are available in the top-level namespace.\n",
      "  from pandas.core.index import Index as PandasIndex\n",
      "R[write to console]: No methods found in package 'RSQLite' for request: 'dbListFields' when loading 'oligo'\n",
      "\n",
      "R[write to console]: No methods found in package 'RSQLite' for request: 'dbListFields' when loading 'lumi'\n",
      "\n"
     ]
    }
   ],
   "source": [
    "import pandas as pd\n",
    "from ExpressionTools import pyXset, EsetPrep\n",
    "from rpy2.robjects.packages import importr\n",
    "from rpy2.robjects import r\n"
   ]
  },
  {
   "cell_type": "code",
   "execution_count": 2,
   "metadata": {},
   "outputs": [
    {
     "name": "stderr",
     "output_type": "stream",
     "text": [
      "R[write to console]: Found 1 file(s)\n",
      "\n",
      "R[write to console]: GSE113113_series_matrix.txt.gz\n",
      "\n",
      "R[write to console]: Using locally cached version: data/GSE113113_series_matrix.txt.gz\n",
      "\n",
      "R[write to console]: Parsed with column specification:\n",
      "cols(\n",
      "  .default = col_character()\n",
      ")\n",
      "\n",
      "R[write to console]: See spec(...) for full column specifications.\n",
      "\n",
      "R[write to console]: Annotation GPL not available, so will use submitter GPL instead\n",
      "\n",
      "R[write to console]: Using locally cached version of GPL16791 found here:\n",
      "data/GPL16791.soft \n",
      "\n"
     ]
    }
   ],
   "source": [
    "prep = EsetPrep.GeoPrep(\"GSE113113\", \"data\")\n",
    "prep.load_geo()"
   ]
  },
  {
   "cell_type": "code",
   "execution_count": 3,
   "outputs": [
    {
     "name": "stderr",
     "output_type": "stream",
     "text": [
      "R[write to console]: trying URL 'https://ftp.ncbi.nlm.nih.gov/geo/series/GSE113nnn/GSE113113/suppl//GSE113113_data_final.txt.gz?tool=geoquery'\n",
      "\n",
      "R[write to console]: Content type 'application/x-gzip'\n",
      "R[write to console]:  length 5084571 bytes (4.8 MB)\n",
      "\n",
      "R[write to console]: =\n",
      "R[write to console]: =\n",
      "R[write to console]: =\n",
      "R[write to console]: =\n",
      "R[write to console]: =\n",
      "R[write to console]: =\n",
      "R[write to console]: =\n",
      "R[write to console]: =\n",
      "R[write to console]: =\n",
      "R[write to console]: =\n",
      "R[write to console]: =\n",
      "R[write to console]: =\n",
      "R[write to console]: =\n",
      "R[write to console]: =\n",
      "R[write to console]: =\n",
      "R[write to console]: =\n",
      "R[write to console]: =\n",
      "R[write to console]: =\n",
      "R[write to console]: =\n",
      "R[write to console]: =\n",
      "R[write to console]: =\n",
      "R[write to console]: =\n",
      "R[write to console]: =\n",
      "R[write to console]: =\n",
      "R[write to console]: =\n",
      "R[write to console]: =\n",
      "R[write to console]: =\n",
      "R[write to console]: =\n",
      "R[write to console]: =\n",
      "R[write to console]: =\n",
      "R[write to console]: =\n",
      "R[write to console]: =\n",
      "R[write to console]: =\n",
      "R[write to console]: =\n",
      "R[write to console]: =\n",
      "R[write to console]: =\n",
      "R[write to console]: =\n",
      "R[write to console]: =\n",
      "R[write to console]: =\n",
      "R[write to console]: =\n",
      "R[write to console]: =\n",
      "R[write to console]: =\n",
      "R[write to console]: =\n",
      "R[write to console]: =\n",
      "R[write to console]: =\n",
      "R[write to console]: =\n",
      "R[write to console]: =\n",
      "R[write to console]: =\n",
      "R[write to console]: =\n",
      "R[write to console]: =\n",
      "R[write to console]: \n",
      "\n",
      "R[write to console]: downloaded 4.8 MB\n",
      "\n",
      "\n"
     ]
    },
    {
     "data": {
      "text/plain": "                                                 size  isdir  mode  \\\ndata/GSE113113/GSE113113_data_final.txt.gz  5084571.0      0   420   \n\n                                                   mtime         ctime  \\\ndata/GSE113113/GSE113113_data_final.txt.gz  1.590692e+09  1.590692e+09   \n\n                                                   atime  uid  gid  \\\ndata/GSE113113/GSE113113_data_final.txt.gz  1.590692e+09  501   20   \n\n                                                    uname grname  \ndata/GSE113113/GSE113113_data_final.txt.gz  coltongarelli  staff  ",
      "text/html": "<div>\n<style scoped>\n    .dataframe tbody tr th:only-of-type {\n        vertical-align: middle;\n    }\n\n    .dataframe tbody tr th {\n        vertical-align: top;\n    }\n\n    .dataframe thead th {\n        text-align: right;\n    }\n</style>\n<table border=\"1\" class=\"dataframe\">\n  <thead>\n    <tr style=\"text-align: right;\">\n      <th></th>\n      <th>size</th>\n      <th>isdir</th>\n      <th>mode</th>\n      <th>mtime</th>\n      <th>ctime</th>\n      <th>atime</th>\n      <th>uid</th>\n      <th>gid</th>\n      <th>uname</th>\n      <th>grname</th>\n    </tr>\n  </thead>\n  <tbody>\n    <tr>\n      <th>data/GSE113113/GSE113113_data_final.txt.gz</th>\n      <td>5084571.0</td>\n      <td>0</td>\n      <td>420</td>\n      <td>1.590692e+09</td>\n      <td>1.590692e+09</td>\n      <td>1.590692e+09</td>\n      <td>501</td>\n      <td>20</td>\n      <td>coltongarelli</td>\n      <td>staff</td>\n    </tr>\n  </tbody>\n</table>\n</div>"
     },
     "execution_count": 3,
     "metadata": {},
     "output_type": "execute_result"
    }
   ],
   "source": [
    "geoquery = importr('GEOquery')\n",
    "geoquery.getGEOSuppFiles(\"GSE113113\", baseDir=\"data\")"
   ],
   "metadata": {
    "collapsed": false,
    "pycharm": {
     "name": "#%%\n"
    }
   }
  },
  {
   "cell_type": "code",
   "execution_count": 4,
   "outputs": [],
   "source": [
    "data = pd.read_csv(\"data/GSE113113/GSE113113_data_final.txt\", sep='\\t')"
   ],
   "metadata": {
    "collapsed": false,
    "pycharm": {
     "name": "#%%\n"
    }
   }
  },
  {
   "cell_type": "code",
   "execution_count": 5,
   "metadata": {},
   "outputs": [],
   "source": [
    "data.set_index('REFID', inplace=True)\n",
    "# base = importr('base')"
   ]
  },
  {
   "cell_type": "code",
   "execution_count": 6,
   "metadata": {},
   "outputs": [
    {
     "name": "stderr",
     "output_type": "stream",
     "text": [
      "/Users/coltongarelli/anaconda3/envs/ExprArch/lib/python3.7/site-packages/pandas/core/strings.py:1954: UserWarning: This pattern has match groups. To actually get the groups, use str.extract.\n",
      "  return func(self, *args, **kwargs)\n"
     ]
    }
   ],
   "source": [
    "from ExpressionTools import pyEset\n",
    "from rpy2.robjects import StrVector\n",
    "biobase = importr('Biobase')\n",
    "data_table = importr('data.table')\n",
    "\n",
    "combined = biobase.ExpressionSet(assayData=r.matrix(data.to_numpy(), ncol=len(data.columns), nrow=len(data.index)),\n",
    "                                 featureData=biobase.AnnotatedDataFrame(pd.DataFrame(data.index)),\n",
    "                                 phenoData=biobase.AnnotatedDataFrame(prep.eset.pheno_data),\n",
    "                                 protocolData=prep.eset.protocol_data,\n",
    "                                 annotation=StrVector(prep.eset.annot))\n",
    "xset = pyXset.PyXset(pyEset.PyEset(combined))"
   ]
  },
  {
   "cell_type": "code",
   "execution_count": null,
   "outputs": [],
   "source": [
    "early = xset.search_pdata([\"IIB\", \"IA\"], \"Early stage\", \"characteristics_ch1.2\")\n",
    "late = xset.search_pdata(\"IV\", \"Late stage\", \"characteristics_ch1.2\")\n",
    "healthy = xset.search_pdata(\"Normal\", \"Healthy\", \"characteristics_ch1.2\")"
   ],
   "metadata": {
    "collapsed": false,
    "pycharm": {
     "name": "#%%\n"
    }
   }
  },
  {
   "cell_type": "code",
   "execution_count": 7,
   "metadata": {},
   "outputs": [],
   "source": [
    "xset.update_groups(early)\n",
    "xset.update_groups(late)\n",
    "xset.update_groups(healthy)"
   ]
  },
  {
   "cell_type": "code",
   "execution_count": 8,
   "metadata": {},
   "outputs": [],
   "source": [
    "xset.exprs.index = xset.fdata.loc[:, 'REFID']"
   ]
  },
  {
   "cell_type": "code",
   "execution_count": 9,
   "outputs": [],
   "source": [
    "from AnalysisTools import gsea"
   ],
   "metadata": {
    "collapsed": false,
    "pycharm": {
     "name": "#%%\n"
    }
   }
  },
  {
   "cell_type": "code",
   "execution_count": 10,
   "metadata": {},
   "outputs": [],
   "source": [
    "early_analyze = xset.exprs.loc[:, early]\n",
    "early_analyze = early_analyze.join(xset.exprs.loc[:, healthy])\n",
    "early_gsea = gsea.GSEAnalysis(\".\", '/GSE113113/gsea/early')\n",
    "early_classes = early_gsea.construct_classes('Early stage', 'Healthy', len([i for i in early.to_list() if i]), len([i for i in healthy.to_list() if i]))\n",
    "# early_gsea.run_gsea(early_analyze, early_classes)\n",
    "late_analyze = xset.exprs.loc[:, late]\n",
    "late_analyze = late_analyze.join(xset.exprs.loc[:, healthy])\n",
    "late_gsea = gsea.GSEAnalysis(\".\", '/GSE113113/gsea/late')\n",
    "late_classes = late_gsea.construct_classes('Late stage', 'Healthy', len([i for i in late.to_list() if i]), len([i for i in healthy.to_list() if i]))\n",
    "# late_gsea.run_gsea(late_analyze, late_classes)"
   ]
  },
  {
   "cell_type": "markdown",
   "metadata": {
    "pycharm": {
     "name": "#%% md\n"
    }
   },
   "source": [
    "Differential expression\n"
   ]
  },
  {
   "cell_type": "code",
   "execution_count": 11,
   "outputs": [],
   "source": [
    "from AnalysisTools import limma_de\n",
    "from importlib import reload"
   ],
   "metadata": {
    "collapsed": false,
    "pycharm": {
     "name": "#%%\n"
    }
   }
  },
  {
   "cell_type": "code",
   "execution_count": 16,
   "outputs": [
    {
     "ename": "AttributeError",
     "evalue": "module 'limma' has no attribute 'ebayes'",
     "output_type": "error",
     "traceback": [
      "\u001B[0;31m---------------------------------------------------------------------------\u001B[0m",
      "\u001B[0;31mAttributeError\u001B[0m                            Traceback (most recent call last)",
      "\u001B[0;32m<ipython-input-16-e54e8c9bc956>\u001B[0m in \u001B[0;36m<module>\u001B[0;34m\u001B[0m\n\u001B[1;32m      3\u001B[0m \u001B[0mde\u001B[0m \u001B[0;34m=\u001B[0m \u001B[0mlimma_de\u001B[0m\u001B[0;34m.\u001B[0m\u001B[0mLimmaDiffEx\u001B[0m\u001B[0;34m(\u001B[0m\u001B[0mxset\u001B[0m\u001B[0;34m)\u001B[0m\u001B[0;34m\u001B[0m\u001B[0;34m\u001B[0m\u001B[0m\n\u001B[1;32m      4\u001B[0m \u001B[0mde\u001B[0m\u001B[0;34m.\u001B[0m\u001B[0mrun_contrast_fit\u001B[0m\u001B[0;34m(\u001B[0m\u001B[0;34m)\u001B[0m\u001B[0;34m\u001B[0m\u001B[0;34m\u001B[0m\u001B[0m\n\u001B[0;32m----> 5\u001B[0;31m \u001B[0mde\u001B[0m\u001B[0;34m.\u001B[0m\u001B[0mrun_ebayes\u001B[0m\u001B[0;34m(\u001B[0m\u001B[0;34m)\u001B[0m\u001B[0;34m\u001B[0m\u001B[0;34m\u001B[0m\u001B[0m\n\u001B[0m\u001B[1;32m      6\u001B[0m \u001B[0mtops\u001B[0m \u001B[0;34m=\u001B[0m \u001B[0mde\u001B[0m\u001B[0;34m.\u001B[0m\u001B[0mrun_toptable\u001B[0m\u001B[0;34m(\u001B[0m\u001B[0;34m'p'\u001B[0m\u001B[0;34m)\u001B[0m\u001B[0;34m\u001B[0m\u001B[0;34m\u001B[0m\u001B[0m\n\u001B[1;32m      7\u001B[0m \u001B[0;34m\u001B[0m\u001B[0m\n",
      "\u001B[0;32m~/pyLibraries/Xpression/Source/AnalysisTools/limma_de.py\u001B[0m in \u001B[0;36mrun_ebayes\u001B[0;34m(self)\u001B[0m\n\u001B[1;32m     32\u001B[0m \u001B[0;34m\u001B[0m\u001B[0m\n\u001B[1;32m     33\u001B[0m     \u001B[0;32mdef\u001B[0m \u001B[0mrun_ebayes\u001B[0m\u001B[0;34m(\u001B[0m\u001B[0mself\u001B[0m\u001B[0;34m)\u001B[0m\u001B[0;34m:\u001B[0m\u001B[0;34m\u001B[0m\u001B[0;34m\u001B[0m\u001B[0m\n\u001B[0;32m---> 34\u001B[0;31m         \u001B[0mself\u001B[0m\u001B[0;34m.\u001B[0m\u001B[0mebayes\u001B[0m \u001B[0;34m=\u001B[0m \u001B[0mlimma\u001B[0m\u001B[0;34m.\u001B[0m\u001B[0mebayes\u001B[0m\u001B[0;34m(\u001B[0m\u001B[0mself\u001B[0m\u001B[0;34m.\u001B[0m\u001B[0mcontrast_fit\u001B[0m\u001B[0;34m)\u001B[0m\u001B[0;34m\u001B[0m\u001B[0;34m\u001B[0m\u001B[0m\n\u001B[0m\u001B[1;32m     35\u001B[0m         \u001B[0;32mreturn\u001B[0m \u001B[0mself\u001B[0m\u001B[0;34m.\u001B[0m\u001B[0mebayes\u001B[0m\u001B[0;34m\u001B[0m\u001B[0;34m\u001B[0m\u001B[0m\n\u001B[1;32m     36\u001B[0m \u001B[0;34m\u001B[0m\u001B[0m\n",
      "\u001B[0;31mAttributeError\u001B[0m: module 'limma' has no attribute 'ebayes'"
     ]
    }
   ],
   "source": [
    "# %load_ext autoreload\n",
    "# %autoreload 1\n",
    "de = limma_de.LimmaDiffEx(xset)\n",
    "de.run_contrast_fit()\n",
    "de.run_ebayes()\n",
    "tops = de.run_toptable('p')"
   ],
   "metadata": {
    "collapsed": false,
    "pycharm": {
     "name": "#%%\n"
    }
   }
  },
  {
   "cell_type": "code",
   "execution_count": 15,
   "outputs": [
    {
     "data": {
      "text/plain": "<AnalysisTools.limma_de.LimmaDiffEx at 0x1318154d0>"
     },
     "execution_count": 15,
     "metadata": {},
     "output_type": "execute_result"
    }
   ],
   "source": [
    "de"
   ],
   "metadata": {
    "collapsed": false,
    "pycharm": {
     "name": "#%%\n"
    }
   }
  },
  {
   "cell_type": "code",
   "execution_count": null,
   "outputs": [],
   "source": [
    "\n"
   ],
   "metadata": {
    "collapsed": false,
    "pycharm": {
     "name": "#%%\n"
    }
   }
  }
 ],
 "metadata": {
  "kernelspec": {
   "display_name": "ExprArch",
   "language": "python",
   "name": "exprarch"
  },
  "language_info": {
   "codemirror_mode": {
    "name": "ipython",
    "version": 3
   },
   "file_extension": ".py",
   "mimetype": "text/x-python",
   "name": "python",
   "nbconvert_exporter": "python",
   "pygments_lexer": "ipython3",
   "version": "3.7.6"
  }
 },
 "nbformat": 4,
 "nbformat_minor": 1
}