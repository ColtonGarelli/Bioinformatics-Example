{
 "cells": [
  {
   "cell_type": "markdown",
   "id": "be75ead7",
   "metadata": {},
   "source": [
    "This is an [R Markdown](http://rmarkdown.rstudio.com) Notebook. When you execute code within the notebook, the results appear beneath the code.\n",
    "\n",
    "Try executing this chunk by clicking the *Run* button within the chunk or by placing your cursor inside it and pressing *Cmd+Shift+Enter*."
   ]
  },
  {
   "cell_type": "code",
   "execution_count": 2,
   "id": "d4bc7ae8",
   "metadata": {},
   "outputs": [],
   "source": [
    "%load_ext rpy2.ipython"
   ]
  },
  {
   "cell_type": "code",
   "execution_count": null,
   "id": "a3ce99db",
   "metadata": {},
   "outputs": [],
   "source": []
  },
  {
   "cell_type": "code",
   "execution_count": 3,
   "id": "de746010",
   "metadata": {
    "Rmd_chunk_options": "echo=FALSE, include=FALSE, message=FALSE",
    "jupyter": {
     "output_hidden": true,
     "source_hidden": true
    },
    "kernel": "R",
    "tags": []
   },
   "outputs": [
    {
     "name": "stderr",
     "output_type": "stream",
     "text": [
      "R[write to console]: Bioconductor version 3.16 (BiocManager 1.30.19), R 4.2.2 (2022-10-31)\n",
      "\n",
      "R[write to console]: Loading required package: BiocGenerics\n",
      "\n",
      "R[write to console]: \n",
      "Attaching package: ‘BiocGenerics’\n",
      "\n",
      "\n",
      "R[write to console]: The following objects are masked from ‘package:stats’:\n",
      "\n",
      "    IQR, mad, sd, var, xtabs\n",
      "\n",
      "\n",
      "R[write to console]: The following objects are masked from ‘package:base’:\n",
      "\n",
      "    Filter, Find, Map, Position, Reduce, anyDuplicated, aperm, append,\n",
      "    as.data.frame, basename, cbind, colnames, dirname, do.call,\n",
      "    duplicated, eval, evalq, get, grep, grepl, intersect, is.unsorted,\n",
      "    lapply, mapply, match, mget, order, paste, pmax, pmax.int, pmin,\n",
      "    pmin.int, rank, rbind, rownames, sapply, setdiff, sort, table,\n",
      "    tapply, union, unique, unsplit, which.max, which.min\n",
      "\n",
      "\n",
      "R[write to console]: Welcome to Bioconductor\n",
      "\n",
      "    Vignettes contain introductory material; view with\n",
      "    'browseVignettes()'. To cite Bioconductor, see\n",
      "    'citation(\"Biobase\")', and for packages 'citation(\"pkgname\")'.\n",
      "\n",
      "\n",
      "R[write to console]: Loading required package: AnnotationDbi\n",
      "\n",
      "R[write to console]: Loading required package: stats4\n",
      "\n",
      "R[write to console]: Loading required package: IRanges\n",
      "\n",
      "R[write to console]: Loading required package: S4Vectors\n",
      "\n",
      "R[write to console]: \n",
      "Attaching package: ‘S4Vectors’\n",
      "\n",
      "\n",
      "R[write to console]: The following objects are masked from ‘package:base’:\n",
      "\n",
      "    I, expand.grid, unname\n",
      "\n",
      "\n",
      "R[write to console]: Loading required package: org.Hs.eg.db\n",
      "\n",
      "R[write to console]: \n",
      "\n",
      "R[write to console]: \n",
      "\n",
      "R[write to console]: \n",
      "\n",
      "R[write to console]: Loading required package: Biostrings\n",
      "\n",
      "R[write to console]: Loading required package: XVector\n",
      "\n",
      "R[write to console]: Loading required package: GenomeInfoDb\n",
      "\n",
      "R[write to console]: \n",
      "Attaching package: ‘Biostrings’\n",
      "\n",
      "\n",
      "R[write to console]: The following object is masked from ‘package:base’:\n",
      "\n",
      "    strsplit\n",
      "\n",
      "\n",
      "R[write to console]: Loading required package: RSQLite\n",
      "\n",
      "R[write to console]: Loading required package: oligoClasses\n",
      "\n",
      "R[write to console]: Welcome to oligoClasses version 1.60.0\n",
      "\n",
      "R[write to console]: Loading required package: oligo\n",
      "\n",
      "R[write to console]: ================================================================================\n",
      "\n",
      "R[write to console]: Welcome to oligo version 1.62.0\n",
      "\n",
      "R[write to console]: ================================================================================\n",
      "\n",
      "R[write to console]: Loading required package: DBI\n",
      "\n",
      "R[write to console]: \n",
      "Attaching package: ‘limma’\n",
      "\n",
      "\n",
      "R[write to console]: The following object is masked from ‘package:oligo’:\n",
      "\n",
      "    backgroundCorrect\n",
      "\n",
      "\n",
      "R[write to console]: The following object is masked from ‘package:BiocGenerics’:\n",
      "\n",
      "    plotMA\n",
      "\n",
      "\n",
      "R[write to console]: Loading required package: mgcv\n",
      "\n",
      "R[write to console]: Loading required package: nlme\n",
      "\n",
      "R[write to console]: \n",
      "Attaching package: ‘nlme’\n",
      "\n",
      "\n",
      "R[write to console]: The following object is masked from ‘package:Biostrings’:\n",
      "\n",
      "    collapse\n",
      "\n",
      "\n",
      "R[write to console]: The following object is masked from ‘package:IRanges’:\n",
      "\n",
      "    collapse\n",
      "\n",
      "\n",
      "R[write to console]: This is mgcv 1.8-41. For overview type 'help(\"mgcv-package\")'.\n",
      "\n",
      "R[write to console]: Loading required package: genefilter\n",
      "\n",
      "R[write to console]: Loading required package: BiocParallel\n",
      "\n",
      "R[write to console]: \n",
      "Attaching package: ‘ballgown’\n",
      "\n",
      "\n",
      "R[write to console]: The following object is masked from ‘package:ggplot2’:\n",
      "\n",
      "    expr\n",
      "\n",
      "\n",
      "R[write to console]: The following object is masked from ‘package:base’:\n",
      "\n",
      "    structure\n",
      "\n",
      "\n"
     ]
    }
   ],
   "source": [
    "%%R\n",
    "\n",
    "# devtools::install_version('BiocManager', version = '3.10', repos='http://cran.us.r-project.org')\n",
    "# library(BiocManager)\n",
    "# BiocManager::install('pd.hugene.2.0.st')\n",
    "# BiocManager::install('affy')\n",
    "# BiocManager::install('sva')\n",
    "# BiocManager::install('limma')\n",
    "# BiocManager::install('RSQLite')\n",
    "# BiocManager::install('hrbrthemes')\n",
    "library(BiocManager)\n",
    "library(Biobase)\n",
    "library('hugene21stprobeset.db')\n",
    "library('hugene21sttranscriptcluster.db')\n",
    "\n",
    "library('pd.hugene.2.1.st')\n",
    "# pd.hugene.2.1.st::pd.hugene.2.1.st@tableInfo$tbl\n",
    "library(oligo)\n",
    "library(limma)\n",
    "library(sva)\n",
    "library(ggplot2)\n",
    "library(ballgown)"
   ]
  },
  {
   "cell_type": "code",
   "execution_count": null,
   "id": "be6cc16d",
   "metadata": {
    "Rmd_chunk_options": "echo=FALSE, include=FALSE, message=FALSE",
    "jupyter": {
     "output_hidden": true,
     "source_hidden": true
    },
    "kernel": "R",
    "tags": [
     "scratch"
    ]
   },
   "outputs": [],
   "source": [
    "%%R\n",
    "# https://www.bioconductor.org/packages/devel/workflows/vignettes/RNAseq123/inst/doc/limmaWorkflow.html\n",
    "\n",
    "\n",
    "# Load probeset information\n",
    "options(timeout = max(300, getOption(\"timeout\")))\n",
    "options(download.file.method.GEOquery = \"wget\")\n",
    "GEOquery::getGEOSuppFiles(\"GSE119207\", baseDir = \"data\")\n",
    "# Load the expression data\n",
    "\n",
    "# data <- oligo::read.celfiles(filenames=affy::list.celfiles(wdir, full.names = TRUE))"
   ]
  },
  {
   "cell_type": "code",
   "execution_count": 15,
   "id": "cc221994",
   "metadata": {},
   "outputs": [],
   "source": [
    "%%R\n",
    "wdir <-\"data/GSE119207_RAW\"\n",
    "utils::untar(\"./data/GSE119207/GSE119207_RAW.tar\", exdir=\"data/GSE119207_RAW\")"
   ]
  },
  {
   "cell_type": "code",
   "execution_count": 7,
   "id": "9f309fc7",
   "metadata": {},
   "outputs": [
    {
     "name": "stderr",
     "output_type": "stream",
     "text": [
      "R[write to console]: Platform design info loaded.\n",
      "\n"
     ]
    },
    {
     "name": "stdout",
     "output_type": "stream",
     "text": [
      "Reading in : data/GSE119207_RAW/GSM3360727_MirW1_1_MW_HuGene-2_0-st_.CEL.gz\n",
      "Reading in : data/GSE119207_RAW/GSM3360728_MirW2_2_MW_HuGene-2_0-st_.CEL.gz\n",
      "Reading in : data/GSE119207_RAW/GSM3360729_MirW3_3_MW_HuGene-2_0-st_.CEL.gz\n",
      "Reading in : data/GSE119207_RAW/GSM3360730_MirW4_4_MW_HuGene-2_0-st_.CEL.gz\n",
      "Reading in : data/GSE119207_RAW/GSM3360731_MirW10_5_L_HuGene-2_0-st_.CEL.gz\n",
      "Reading in : data/GSE119207_RAW/GSM3360732_MirW15_5_N_HuGene-2_0-st_.CEL.gz\n",
      "Reading in : data/GSE119207_RAW/GSM3360733_MirW11_6_L_HuGene-2_0-st_.CEL.gz\n",
      "Reading in : data/GSE119207_RAW/GSM3360734_MirW16_6_N_HuGene-2_0-st_.CEL.gz\n",
      "Reading in : data/GSE119207_RAW/GSM3360735_MirW12_7_L_HuGene-2_0-st_.CEL.gz\n",
      "Reading in : data/GSE119207_RAW/GSM3360736_MirW17_7_N_HuGene-2_0-st_.CEL.gz\n",
      "Reading in : data/GSE119207_RAW/GSM3360737_MirW13_8_L_HuGene-2_0-st_.CEL.gz\n",
      "Reading in : data/GSE119207_RAW/GSM3360738_MirW18_8_N_HuGene-2_0-st_.CEL.gz\n",
      "Reading in : data/GSE119207_RAW/GSM3360739_MirW14_9_L_HuGene-2_0-st_.CEL.gz\n",
      "Reading in : data/GSE119207_RAW/GSM3360740_MirW19_9_N_HuGene-2_0-st_.CEL.gz\n",
      "Reading in : data/GSE119207_RAW/GSM3360741_MirW6_15_MW_HuGene-2_0-st_.CEL.gz\n",
      "Reading in : data/GSE119207_RAW/GSM3360742_MirW7_16_MW_HuGene-2_0-st_.CEL.gz\n",
      "Reading in : data/GSE119207_RAW/GSM3360743_MirW8_17_MW_HuGene-2_0-st_.CEL.gz\n",
      "Reading in : data/GSE119207_RAW/GSM3360744_MirW9_18_MW_HuGene-2_0-st_.CEL.gz\n"
     ]
    }
   ],
   "source": [
    "%%R\n",
    "wdir <-\"data/GSE119207_RAW\"\n",
    "data <- oligo::read.celfiles(filenames=affy::list.celfiles(wdir, full.names = TRUE), pkgname=\"pd.hugene.2.1.st\")\n"
   ]
  },
  {
   "cell_type": "code",
   "execution_count": 10,
   "id": "d63e720b",
   "metadata": {},
   "outputs": [
    {
     "name": "stdout",
     "output_type": "stream",
     "text": [
      "GeneFeatureSet (storageMode: lockedEnvironment)\n",
      "assayData: 2598544 features, 18 samples \n",
      "  element names: exprs \n",
      "protocolData\n",
      "  rowNames: GSM3360727_MirW1_1_MW_HuGene-2_0-st_.CEL.gz\n",
      "    GSM3360728_MirW2_2_MW_HuGene-2_0-st_.CEL.gz ...\n",
      "    GSM3360744_MirW9_18_MW_HuGene-2_0-st_.CEL.gz (18 total)\n",
      "  varLabels: exprs dates\n",
      "  varMetadata: labelDescription channel\n",
      "phenoData\n",
      "  rowNames: GSM3360727_MirW1_1_MW_HuGene-2_0-st_.CEL.gz\n",
      "    GSM3360728_MirW2_2_MW_HuGene-2_0-st_.CEL.gz ...\n",
      "    GSM3360744_MirW9_18_MW_HuGene-2_0-st_.CEL.gz (18 total)\n",
      "  varLabels: index\n",
      "  varMetadata: labelDescription channel\n",
      "featureData: none\n",
      "experimentData: use 'experimentData(object)'\n",
      "Annotation: pd.hugene.2.1.st \n"
     ]
    }
   ],
   "source": [
    "%%R\n",
    "data"
   ]
  },
  {
   "cell_type": "code",
   "execution_count": 12,
   "id": "fc3ad342",
   "metadata": {},
   "outputs": [
    {
     "name": "stdout",
     "output_type": "stream",
     "text": [
      " [1] \"GSM3360727_MirW1_1_MW_HuGene-2_0-st_.CEL.gz\" \n",
      " [2] \"GSM3360728_MirW2_2_MW_HuGene-2_0-st_.CEL.gz\" \n",
      " [3] \"GSM3360729_MirW3_3_MW_HuGene-2_0-st_.CEL.gz\" \n",
      " [4] \"GSM3360730_MirW4_4_MW_HuGene-2_0-st_.CEL.gz\" \n",
      " [5] \"GSM3360731_MirW10_5_L_HuGene-2_0-st_.CEL.gz\" \n",
      " [6] \"GSM3360732_MirW15_5_N_HuGene-2_0-st_.CEL.gz\" \n",
      " [7] \"GSM3360733_MirW11_6_L_HuGene-2_0-st_.CEL.gz\" \n",
      " [8] \"GSM3360734_MirW16_6_N_HuGene-2_0-st_.CEL.gz\" \n",
      " [9] \"GSM3360735_MirW12_7_L_HuGene-2_0-st_.CEL.gz\" \n",
      "[10] \"GSM3360736_MirW17_7_N_HuGene-2_0-st_.CEL.gz\" \n",
      "[11] \"GSM3360737_MirW13_8_L_HuGene-2_0-st_.CEL.gz\" \n",
      "[12] \"GSM3360738_MirW18_8_N_HuGene-2_0-st_.CEL.gz\" \n",
      "[13] \"GSM3360739_MirW14_9_L_HuGene-2_0-st_.CEL.gz\" \n",
      "[14] \"GSM3360740_MirW19_9_N_HuGene-2_0-st_.CEL.gz\" \n",
      "[15] \"GSM3360741_MirW6_15_MW_HuGene-2_0-st_.CEL.gz\"\n",
      "[16] \"GSM3360742_MirW7_16_MW_HuGene-2_0-st_.CEL.gz\"\n",
      "[17] \"GSM3360743_MirW8_17_MW_HuGene-2_0-st_.CEL.gz\"\n",
      "[18] \"GSM3360744_MirW9_18_MW_HuGene-2_0-st_.CEL.gz\"\n"
     ]
    }
   ],
   "source": [
    "%%R\n",
    "sampleNames(data)"
   ]
  },
  {
   "cell_type": "code",
   "execution_count": 20,
   "id": "244d6e55",
   "metadata": {
    "kernel": "R",
    "tags": [
     "report_cell"
    ]
   },
   "outputs": [],
   "source": [
    "%%R\n",
    "samples <- sub('.*?_', '', sampleNames(data))\n",
    "samples <- sub('.*?_', '', samples)\n",
    "samples <- sub('*_.CEL.gz', '', samples)\n",
    "\n",
    "sampleNames(data) <- samples"
   ]
  },
  {
   "cell_type": "code",
   "execution_count": 19,
   "id": "235d6489",
   "metadata": {},
   "outputs": [
    {
     "name": "stdout",
     "output_type": "stream",
     "text": [
      " [1] \"1_MW_HuGene-2_0-st\"  \"2_MW_HuGene-2_0-st\"  \"3_MW_HuGene-2_0-st\" \n",
      " [4] \"4_MW_HuGene-2_0-st\"  \"5_L_HuGene-2_0-st\"   \"5_N_HuGene-2_0-st\"  \n",
      " [7] \"6_L_HuGene-2_0-st\"   \"6_N_HuGene-2_0-st\"   \"7_L_HuGene-2_0-st\"  \n",
      "[10] \"7_N_HuGene-2_0-st\"   \"8_L_HuGene-2_0-st\"   \"8_N_HuGene-2_0-st\"  \n",
      "[13] \"9_L_HuGene-2_0-st\"   \"9_N_HuGene-2_0-st\"   \"15_MW_HuGene-2_0-st\"\n",
      "[16] \"16_MW_HuGene-2_0-st\" \"17_MW_HuGene-2_0-st\" \"18_MW_HuGene-2_0-st\"\n"
     ]
    }
   ],
   "source": [
    "%%R\n",
    "samples"
   ]
  },
  {
   "cell_type": "markdown",
   "id": "b1e4b20b",
   "metadata": {},
   "source": [
    "normalize probes"
   ]
  },
  {
   "cell_type": "code",
   "execution_count": 21,
   "id": "d76c6e47",
   "metadata": {
    "kernel": "R",
    "tags": [
     "report_cell"
    ]
   },
   "outputs": [
    {
     "name": "stdout",
     "output_type": "stream",
     "text": [
      "Background correcting\n",
      "Normalizing\n",
      "Calculating Expression\n",
      "ExpressionSet (storageMode: lockedEnvironment)\n",
      "assayData: 53617 features, 18 samples \n",
      "  element names: exprs \n",
      "protocolData\n",
      "  rowNames: 1_MW_HuGene-2_0-st 2_MW_HuGene-2_0-st ...\n",
      "    18_MW_HuGene-2_0-st (18 total)\n",
      "  varLabels: exprs dates\n",
      "  varMetadata: labelDescription channel\n",
      "phenoData\n",
      "  rowNames: 1_MW_HuGene-2_0-st 2_MW_HuGene-2_0-st ...\n",
      "    18_MW_HuGene-2_0-st (18 total)\n",
      "  varLabels: index\n",
      "  varMetadata: labelDescription channel\n",
      "featureData: none\n",
      "experimentData: use 'experimentData(object)'\n",
      "Annotation: pd.hugene.2.1.st \n"
     ]
    }
   ],
   "source": [
    "%%R\n",
    "\n",
    "data.rma <- oligo::rma(data)\n",
    "data.rma"
   ]
  },
  {
   "cell_type": "markdown",
   "id": "a20aab02",
   "metadata": {},
   "source": [
    "assign sample states"
   ]
  },
  {
   "cell_type": "code",
   "execution_count": 22,
   "id": "6da07417",
   "metadata": {
    "kernel": "R",
    "tags": [
     "report_cell"
    ]
   },
   "outputs": [],
   "source": [
    "%%R\n",
    "\n",
    "samples <- sampleNames(data.rma)\n",
    "samples[grep(\"1_MW\", colnames(data.rma))] <- 0\n",
    "samples[grep(\"2_MW\", colnames(data.rma))] <- 0\n",
    "samples[grep(\"3_MW\", colnames(data.rma))] <- 0\n",
    "samples[grep(\"4_MW\", colnames(data.rma))] <- 0\n",
    "samples[grep(\"L\", colnames(data.rma))] <- 1\n",
    "samples[grep(\"17_MW\", colnames(data.rma))] <- 1\n",
    "samples[grep(\"15_MW\", colnames(data.rma))] <- 1\n",
    "samples[grep(\"N\", colnames(data.rma))] <- 1\n",
    "samples[grep(\"18_MW\", colnames(data.rma))] <- 1\n",
    "samples[grep(\"16_MW\", colnames(data.rma))] <- 1\n",
    "\n",
    "status <- samples\n",
    "data.rma@phenoData$status <- samples\n",
    "\n",
    "\n",
    "# idx 1-4 are healthy after that sort by n and l\n",
    "samples <- sampleNames(data.rma)\n",
    "samples[grep(\"L\", colnames(data.rma))] <- \"Lesional\"\n",
    "samples[grep(\"17_MW\", colnames(data.rma))] <- \"Lesional\"\n",
    "samples[grep(\"15_MW\", colnames(data.rma))] <- \"Lesional\"\n",
    "samples[grep(\"N\", colnames(data.rma))] <- \"Nonlesional\"\n",
    "samples[grep(\"18_MW\", colnames(data.rma))] <- \"Nonlesional\"\n",
    "samples[grep(\"16_MW\", colnames(data.rma))] <- \"Nonlesional\"\n",
    "samples[grep(\"1_MW\", colnames(data.rma))] <- \"Healthy\"\n",
    "samples[grep(\"2_MW\", colnames(data.rma))] <- \"Healthy\"\n",
    "samples[grep(\"3_MW\", colnames(data.rma))] <- \"Healthy\"\n",
    "samples[grep(\"4_MW\", colnames(data.rma))] <- \"Healthy\"\n",
    "data.rma@phenoData$sampleType <- samples\n",
    "\n",
    "\n",
    "lesional <- data.rma[,data.rma@phenoData$sampleType == \"Lesional\"]\n",
    "h <- data.rma[,data.rma@phenoData$sampleType == \"Healthy\"]\n",
    "h_l <- combine(lesional, h)\n",
    "patients <- c(1,2,3,4,5,5,6,6,7,7,8,8,9,9,10,10,11,11)"
   ]
  },
  {
   "cell_type": "code",
   "execution_count": 23,
   "id": "2048be92",
   "metadata": {
    "kernel": "R",
    "tags": [
     "report_cell"
    ]
   },
   "outputs": [],
   "source": [
    "%%R\n",
    "\n",
    "samps <- factor(pData(h_l)$sampleType)\n",
    "d_mod <- model.matrix(~0 + samps)\n",
    "colnames(d_mod) <- c('Healthy', \"Lesional\")\n",
    "cont <- makeContrasts(\"Lesional - Healthy\", levels=d_mod)\n",
    "\n",
    "d_fit <- limma::lmFit(exprs(h_l), d_mod)\n",
    "d_fit <- contrasts.fit(d_fit, cont)\n",
    "d_bay <- limma::eBayes(d_fit)\n",
    "data.de <- limma::topTable(d_bay, genelist = , adjust.method = 'BH', sort.by = 'p', number = 10000, coef = 1)"
   ]
  },
  {
   "cell_type": "code",
   "execution_count": 25,
   "id": "db5d785c",
   "metadata": {
    "kernel": "R",
    "tags": [
     "report_cell"
    ]
   },
   "outputs": [
    {
     "name": "stderr",
     "output_type": "stream",
     "text": [
      "R[write to console]: 'select()' returned many:many mapping between keys and columns\n",
      "\n",
      "R[write to console]: Error in file(file, ifelse(append, \"a\", \"w\")) : \n",
      "  cannot open the connection\n",
      "\n",
      "R[write to console]: In addition: \n",
      "R[write to console]: Warning message:\n",
      "\n",
      "R[write to console]: In file(file, ifelse(append, \"a\", \"w\")) :\n",
      "R[write to console]: \n",
      " \n",
      "R[write to console]:  cannot open file '/data/GSE119207_DLE.csv': No such file or directory\n",
      "\n"
     ]
    },
    {
     "name": "stdout",
     "output_type": "stream",
     "text": [
      "\n",
      "Error in file(file, ifelse(append, \"a\", \"w\")) : \n",
      "  cannot open the connection\n"
     ]
    },
    {
     "ename": "RInterpreterError",
     "evalue": "Failed to parse and evaluate line '\\nout <- na.omit(AnnotationDbi::select(hugene21sttranscriptcluster.db,\\n                             keys = probeNames(data),\\n                             columns = c(\\'SYMBOL\\', \\'GENENAME\\', \\'ENTREZID\\'),\\n                             keytype = \"PROBEID\"))\\n\\ndata.de$PROBEID <- rownames(data.de)\\ndata.to.plot <-merge(out, data.de, by.y = c(\"PROBEID\"), sort = FALSE)\\n# aggregate(exprs(data.rma), by = list(rownames(exprs(data.rma))), FUN = mean, na.rm = TRUE)\\ndata.final <- unique(data.to.plot)\\ndata.final <- na.omit(data.final)\\ndata.final\\nwrite.csv(data.final, \"/data/GSE119207_DLE.csv\")\\n'.\nR error message: 'Error in file(file, ifelse(append, \"a\", \"w\")) : \\n  cannot open the connection'",
     "output_type": "error",
     "traceback": [
      "\u001b[0;31m---------------------------------------------------------------------------\u001b[0m",
      "\u001b[0;31mRRuntimeError\u001b[0m                             Traceback (most recent call last)",
      "File \u001b[0;32m~/miniconda3/envs/bioinformatics/lib/python3.11/site-packages/rpy2/ipython/rmagic.py:331\u001b[0m, in \u001b[0;36mRMagics.eval\u001b[0;34m(self, code)\u001b[0m\n\u001b[1;32m    329\u001b[0m \u001b[39mtry\u001b[39;00m:\n\u001b[1;32m    330\u001b[0m     \u001b[39m# Need the newline in case the last line in code is a comment.\u001b[39;00m\n\u001b[0;32m--> 331\u001b[0m     value, visible \u001b[39m=\u001b[39m ro\u001b[39m.\u001b[39;49mr(\u001b[39m\"\u001b[39;49m\u001b[39mwithVisible(\u001b[39;49m\u001b[39m{\u001b[39;49m\u001b[39m%s\u001b[39;49;00m\u001b[39m\\n\u001b[39;49;00m\u001b[39m})\u001b[39;49m\u001b[39m\"\u001b[39;49m \u001b[39m%\u001b[39;49m code)\n\u001b[1;32m    332\u001b[0m \u001b[39mexcept\u001b[39;00m (ri\u001b[39m.\u001b[39membedded\u001b[39m.\u001b[39mRRuntimeError, \u001b[39mValueError\u001b[39;00m) \u001b[39mas\u001b[39;00m exception:\n\u001b[1;32m    333\u001b[0m     \u001b[39m# Otherwise next return seems to have copy of error.\u001b[39;00m\n",
      "File \u001b[0;32m~/miniconda3/envs/bioinformatics/lib/python3.11/site-packages/rpy2/robjects/__init__.py:459\u001b[0m, in \u001b[0;36mR.__call__\u001b[0;34m(self, string)\u001b[0m\n\u001b[1;32m    458\u001b[0m p \u001b[39m=\u001b[39m rinterface\u001b[39m.\u001b[39mparse(string)\n\u001b[0;32m--> 459\u001b[0m res \u001b[39m=\u001b[39m \u001b[39mself\u001b[39;49m\u001b[39m.\u001b[39;49meval(p)\n\u001b[1;32m    460\u001b[0m \u001b[39mreturn\u001b[39;00m conversion\u001b[39m.\u001b[39mget_conversion()\u001b[39m.\u001b[39mrpy2py(res)\n",
      "File \u001b[0;32m~/miniconda3/envs/bioinformatics/lib/python3.11/site-packages/rpy2/robjects/functions.py:204\u001b[0m, in \u001b[0;36mSignatureTranslatedFunction.__call__\u001b[0;34m(self, *args, **kwargs)\u001b[0m\n\u001b[1;32m    203\u001b[0m         kwargs[r_k] \u001b[39m=\u001b[39m v\n\u001b[0;32m--> 204\u001b[0m \u001b[39mreturn\u001b[39;00m (\u001b[39msuper\u001b[39;49m(SignatureTranslatedFunction, \u001b[39mself\u001b[39;49m)\n\u001b[1;32m    205\u001b[0m         \u001b[39m.\u001b[39;49m\u001b[39m__call__\u001b[39;49m(\u001b[39m*\u001b[39;49margs, \u001b[39m*\u001b[39;49m\u001b[39m*\u001b[39;49mkwargs))\n",
      "File \u001b[0;32m~/miniconda3/envs/bioinformatics/lib/python3.11/site-packages/rpy2/robjects/functions.py:127\u001b[0m, in \u001b[0;36mFunction.__call__\u001b[0;34m(self, *args, **kwargs)\u001b[0m\n\u001b[1;32m    126\u001b[0m         new_kwargs[k] \u001b[39m=\u001b[39m cv\u001b[39m.\u001b[39mpy2rpy(v)\n\u001b[0;32m--> 127\u001b[0m res \u001b[39m=\u001b[39m \u001b[39msuper\u001b[39;49m(Function, \u001b[39mself\u001b[39;49m)\u001b[39m.\u001b[39;49m\u001b[39m__call__\u001b[39;49m(\u001b[39m*\u001b[39;49mnew_args, \u001b[39m*\u001b[39;49m\u001b[39m*\u001b[39;49mnew_kwargs)\n\u001b[1;32m    128\u001b[0m res \u001b[39m=\u001b[39m cv\u001b[39m.\u001b[39mrpy2py(res)\n",
      "File \u001b[0;32m~/miniconda3/envs/bioinformatics/lib/python3.11/site-packages/rpy2/rinterface_lib/conversion.py:45\u001b[0m, in \u001b[0;36m_cdata_res_to_rinterface.<locals>._\u001b[0;34m(*args, **kwargs)\u001b[0m\n\u001b[1;32m     44\u001b[0m \u001b[39mdef\u001b[39;00m \u001b[39m_\u001b[39m(\u001b[39m*\u001b[39margs, \u001b[39m*\u001b[39m\u001b[39m*\u001b[39mkwargs):\n\u001b[0;32m---> 45\u001b[0m     cdata \u001b[39m=\u001b[39m function(\u001b[39m*\u001b[39;49margs, \u001b[39m*\u001b[39;49m\u001b[39m*\u001b[39;49mkwargs)\n\u001b[1;32m     46\u001b[0m     \u001b[39m# TODO: test cdata is of the expected CType\u001b[39;00m\n",
      "File \u001b[0;32m~/miniconda3/envs/bioinformatics/lib/python3.11/site-packages/rpy2/rinterface.py:817\u001b[0m, in \u001b[0;36mSexpClosure.__call__\u001b[0;34m(self, *args, **kwargs)\u001b[0m\n\u001b[1;32m    816\u001b[0m     \u001b[39mif\u001b[39;00m error_occured[\u001b[39m0\u001b[39m]:\n\u001b[0;32m--> 817\u001b[0m         \u001b[39mraise\u001b[39;00m embedded\u001b[39m.\u001b[39mRRuntimeError(_rinterface\u001b[39m.\u001b[39m_geterrmessage())\n\u001b[1;32m    818\u001b[0m \u001b[39mreturn\u001b[39;00m res\n",
      "\u001b[0;31mRRuntimeError\u001b[0m: Error in file(file, ifelse(append, \"a\", \"w\")) : \n  cannot open the connection\n",
      "\nDuring handling of the above exception, another exception occurred:\n",
      "\u001b[0;31mRInterpreterError\u001b[0m                         Traceback (most recent call last)",
      "Cell \u001b[0;32mIn[25], line 1\u001b[0m\n\u001b[0;32m----> 1\u001b[0m get_ipython()\u001b[39m.\u001b[39;49mrun_cell_magic(\u001b[39m'\u001b[39;49m\u001b[39mR\u001b[39;49m\u001b[39m'\u001b[39;49m, \u001b[39m'\u001b[39;49m\u001b[39m'\u001b[39;49m, \u001b[39m'\u001b[39;49m\u001b[39m\\n\u001b[39;49;00m\u001b[39mout <- na.omit(AnnotationDbi::select(hugene21sttranscriptcluster.db,\u001b[39;49m\u001b[39m\\n\u001b[39;49;00m\u001b[39m                             keys = probeNames(data),\u001b[39;49m\u001b[39m\\n\u001b[39;49;00m\u001b[39m                             columns = c(\u001b[39;49m\u001b[39m\\'\u001b[39;49;00m\u001b[39mSYMBOL\u001b[39;49m\u001b[39m\\'\u001b[39;49;00m\u001b[39m, \u001b[39;49m\u001b[39m\\'\u001b[39;49;00m\u001b[39mGENENAME\u001b[39;49m\u001b[39m\\'\u001b[39;49;00m\u001b[39m, \u001b[39;49m\u001b[39m\\'\u001b[39;49;00m\u001b[39mENTREZID\u001b[39;49m\u001b[39m\\'\u001b[39;49;00m\u001b[39m),\u001b[39;49m\u001b[39m\\n\u001b[39;49;00m\u001b[39m                             keytype = \u001b[39;49m\u001b[39m\"\u001b[39;49m\u001b[39mPROBEID\u001b[39;49m\u001b[39m\"\u001b[39;49m\u001b[39m))\u001b[39;49m\u001b[39m\\n\u001b[39;49;00m\u001b[39m\\n\u001b[39;49;00m\u001b[39mdata.de$PROBEID <- rownames(data.de)\u001b[39;49m\u001b[39m\\n\u001b[39;49;00m\u001b[39mdata.to.plot <-merge(out, data.de, by.y = c(\u001b[39;49m\u001b[39m\"\u001b[39;49m\u001b[39mPROBEID\u001b[39;49m\u001b[39m\"\u001b[39;49m\u001b[39m), sort = FALSE)\u001b[39;49m\u001b[39m\\n\u001b[39;49;00m\u001b[39m# aggregate(exprs(data.rma), by = list(rownames(exprs(data.rma))), FUN = mean, na.rm = TRUE)\u001b[39;49m\u001b[39m\\n\u001b[39;49;00m\u001b[39mdata.final <- unique(data.to.plot)\u001b[39;49m\u001b[39m\\n\u001b[39;49;00m\u001b[39mdata.final <- na.omit(data.final)\u001b[39;49m\u001b[39m\\n\u001b[39;49;00m\u001b[39mdata.final\u001b[39;49m\u001b[39m\\n\u001b[39;49;00m\u001b[39mwrite.csv(data.final, \u001b[39;49m\u001b[39m\"\u001b[39;49m\u001b[39m/data/GSE119207_DLE.csv\u001b[39;49m\u001b[39m\"\u001b[39;49m\u001b[39m)\u001b[39;49m\u001b[39m\\n\u001b[39;49;00m\u001b[39m'\u001b[39;49m)\n",
      "File \u001b[0;32m~/miniconda3/envs/bioinformatics/lib/python3.11/site-packages/IPython/core/interactiveshell.py:2422\u001b[0m, in \u001b[0;36mInteractiveShell.run_cell_magic\u001b[0;34m(self, magic_name, line, cell)\u001b[0m\n\u001b[1;32m   2420\u001b[0m \u001b[39mwith\u001b[39;00m \u001b[39mself\u001b[39m\u001b[39m.\u001b[39mbuiltin_trap:\n\u001b[1;32m   2421\u001b[0m     args \u001b[39m=\u001b[39m (magic_arg_s, cell)\n\u001b[0;32m-> 2422\u001b[0m     result \u001b[39m=\u001b[39m fn(\u001b[39m*\u001b[39;49margs, \u001b[39m*\u001b[39;49m\u001b[39m*\u001b[39;49mkwargs)\n\u001b[1;32m   2423\u001b[0m \u001b[39mreturn\u001b[39;00m result\n",
      "File \u001b[0;32m~/miniconda3/envs/bioinformatics/lib/python3.11/site-packages/rpy2/ipython/rmagic.py:870\u001b[0m, in \u001b[0;36mRMagics.R\u001b[0;34m(self, line, cell, local_ns)\u001b[0m\n\u001b[1;32m    868\u001b[0m     \u001b[39mif\u001b[39;00m \u001b[39mnot\u001b[39;00m e\u001b[39m.\u001b[39mstdout\u001b[39m.\u001b[39mendswith(e\u001b[39m.\u001b[39merr):\n\u001b[1;32m    869\u001b[0m         \u001b[39mprint\u001b[39m(e\u001b[39m.\u001b[39merr)\n\u001b[0;32m--> 870\u001b[0m     \u001b[39mraise\u001b[39;00m e\n\u001b[1;32m    871\u001b[0m \u001b[39mfinally\u001b[39;00m:\n\u001b[1;32m    872\u001b[0m     \u001b[39mif\u001b[39;00m \u001b[39mself\u001b[39m\u001b[39m.\u001b[39mdevice \u001b[39min\u001b[39;00m [\u001b[39m'\u001b[39m\u001b[39mpng\u001b[39m\u001b[39m'\u001b[39m, \u001b[39m'\u001b[39m\u001b[39msvg\u001b[39m\u001b[39m'\u001b[39m]:\n",
      "File \u001b[0;32m~/miniconda3/envs/bioinformatics/lib/python3.11/site-packages/rpy2/ipython/rmagic.py:850\u001b[0m, in \u001b[0;36mRMagics.R\u001b[0;34m(self, line, cell, local_ns)\u001b[0m\n\u001b[1;32m    848\u001b[0m         return_output \u001b[39m=\u001b[39m \u001b[39mFalse\u001b[39;00m\n\u001b[1;32m    849\u001b[0m \u001b[39melse\u001b[39;00m:\n\u001b[0;32m--> 850\u001b[0m     text_result, result, visible \u001b[39m=\u001b[39m \u001b[39mself\u001b[39;49m\u001b[39m.\u001b[39;49meval(code)\n\u001b[1;32m    851\u001b[0m     text_output \u001b[39m+\u001b[39m\u001b[39m=\u001b[39m text_result\n\u001b[1;32m    852\u001b[0m     \u001b[39mif\u001b[39;00m visible:\n",
      "File \u001b[0;32m~/miniconda3/envs/bioinformatics/lib/python3.11/site-packages/rpy2/ipython/rmagic.py:335\u001b[0m, in \u001b[0;36mRMagics.eval\u001b[0;34m(self, code)\u001b[0m\n\u001b[1;32m    332\u001b[0m \u001b[39mexcept\u001b[39;00m (ri\u001b[39m.\u001b[39membedded\u001b[39m.\u001b[39mRRuntimeError, \u001b[39mValueError\u001b[39;00m) \u001b[39mas\u001b[39;00m exception:\n\u001b[1;32m    333\u001b[0m     \u001b[39m# Otherwise next return seems to have copy of error.\u001b[39;00m\n\u001b[1;32m    334\u001b[0m     warning_or_other_msg \u001b[39m=\u001b[39m \u001b[39mself\u001b[39m\u001b[39m.\u001b[39mflush()\n\u001b[0;32m--> 335\u001b[0m     \u001b[39mraise\u001b[39;00m RInterpreterError(code, \u001b[39mstr\u001b[39m(exception),\n\u001b[1;32m    336\u001b[0m                             warning_or_other_msg)\n\u001b[1;32m    337\u001b[0m text_output \u001b[39m=\u001b[39m \u001b[39mself\u001b[39m\u001b[39m.\u001b[39mflush()\n\u001b[1;32m    338\u001b[0m \u001b[39mreturn\u001b[39;00m text_output, value, visible[\u001b[39m0\u001b[39m]\n",
      "\u001b[0;31mRInterpreterError\u001b[0m: Failed to parse and evaluate line '\\nout <- na.omit(AnnotationDbi::select(hugene21sttranscriptcluster.db,\\n                             keys = probeNames(data),\\n                             columns = c(\\'SYMBOL\\', \\'GENENAME\\', \\'ENTREZID\\'),\\n                             keytype = \"PROBEID\"))\\n\\ndata.de$PROBEID <- rownames(data.de)\\ndata.to.plot <-merge(out, data.de, by.y = c(\"PROBEID\"), sort = FALSE)\\n# aggregate(exprs(data.rma), by = list(rownames(exprs(data.rma))), FUN = mean, na.rm = TRUE)\\ndata.final <- unique(data.to.plot)\\ndata.final <- na.omit(data.final)\\ndata.final\\nwrite.csv(data.final, \"/data/GSE119207_DLE.csv\")\\n'.\nR error message: 'Error in file(file, ifelse(append, \"a\", \"w\")) : \\n  cannot open the connection'"
     ]
    }
   ],
   "source": [
    "%%R\n",
    "\n",
    "out <- na.omit(AnnotationDbi::select(hugene21sttranscriptcluster.db,\n",
    "                             keys = probeNames(data),\n",
    "                             columns = c('SYMBOL', 'GENENAME', 'ENTREZID'),\n",
    "                             keytype = \"PROBEID\"))\n",
    "\n",
    "data.de$PROBEID <- rownames(data.de)\n",
    "data.to.plot <-merge(out, data.de, by.y = c(\"PROBEID\"), sort = FALSE)\n",
    "# aggregate(exprs(data.rma), by = list(rownames(exprs(data.rma))), FUN = mean, na.rm = TRUE)\n",
    "data.final <- unique(data.to.plot)\n",
    "data.final <- na.omit(data.final)\n",
    "data.final\n"
   ]
  },
  {
   "cell_type": "code",
   "execution_count": 26,
   "id": "d9a0d270",
   "metadata": {},
   "outputs": [],
   "source": [
    "%%R\n",
    "\n",
    "write.csv(data.final, \"./data/GSE119207_DLE.csv\")"
   ]
  },
  {
   "cell_type": "code",
   "execution_count": null,
   "id": "7bd8cac8",
   "metadata": {
    "kernel": "R",
    "tags": [
     "report_cell"
    ]
   },
   "outputs": [],
   "source": [
    "# rma_pca <- prcomp(t(exprs(data.rma)))\n",
    "# r_pca <- as.data.frame(rma_pca$x[, 1:2])\n",
    "# r_pca$color <- pData(data.rma)$sampleType\n",
    "# batch_pca <- prcomp(t(data.normed_batched))\n",
    "# b_pca <- as.data.frame(batch_pca$x[, 1:2])\n",
    "# b_pca$color <- (c(batch1, batch2))\n",
    "# r = ggplot(r_pca, aes(PC1, PC2, color=color))\n",
    "# r <- r+geom_point()+ geom_text(aes(label=data.rma@phenoData$sampleType, hjust=0, vjust=0),  size=2)\n",
    "# b = ggplot(b_pca, aes(PC1, PC2, color=color), label = colnames(data.normed_batched))\n",
    "# b <- c+geom_point() + geom_text(aes(label=data@phenoData$groups, hjust=0, vjust=0), position = position_dodge(width=0.9),  size=2)\n",
    "# gridExtra::grid.arrange(r, b, ncol=2)"
   ]
  },
  {
   "cell_type": "markdown",
   "id": "4c4c8982",
   "metadata": {},
   "source": [
    "Add a new chunk by clicking the *Insert Chunk* button on the toolbar or by pressing *Cmd+Option+I*.\n",
    "\n",
    "When you save the notebook, an HTML file containing the code and output will be saved alongside it (click the *Preview* button or press *Cmd+Shift+K* to preview the HTML file).\n",
    "\n",
    "The preview shows you a rendered HTML copy of the contents of the editor. Consequently, unlike *Knit*, *Preview* does not run any R code chunks. Instead, the output of the chunk when it was last run in the editor is displayed."
   ]
  }
 ],
 "metadata": {
  "Rmd_chunk_options": {
   "jupyter": {
    "kernelspec": {
     "display_name": "R",
     "language": "R",
     "name": "ir"
    },
    "language_info": {
     "codemirror_mode": "r",
     "file_extension": ".r",
     "mimetype": "text/x-r-source",
     "name": "R",
     "pygments_lexer": "r",
     "version": "3.4.3"
    }
   },
   "output": {
    "html_document": {
     "df_print": "paged"
    }
   },
   "title": "Example R Markdown Notebook"
  },
  "kernelspec": {
   "display_name": "Python 3.11.0 ('bioinformatics')",
   "language": "python",
   "name": "python3"
  },
  "language_info": {
   "codemirror_mode": {
    "name": "ipython",
    "version": 3
   },
   "file_extension": ".py",
   "mimetype": "text/x-python",
   "name": "python",
   "nbconvert_exporter": "python",
   "pygments_lexer": "ipython3",
   "version": "3.11.0"
  },
  "vscode": {
   "interpreter": {
    "hash": "995cb2a83e56f78133b4a17de4d56e1ccba9283c4d5005099dc71ab0b2110c6d"
   }
  }
 },
 "nbformat": 4,
 "nbformat_minor": 5
}
