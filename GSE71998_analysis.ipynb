{
 "cells": [
  {
   "cell_type": "markdown",
   "source": [
    "Some title stuff and other background"
   ],
   "metadata": {
    "collapsed": false,
    "pycharm": {
     "name": "#%% md\n"
    }
   }
  },
  {
   "cell_type": "markdown",
   "source": [
    "Import necessary packages"
   ],
   "metadata": {
    "collapsed": false,
    "pycharm": {
     "name": "#%% md\n"
    }
   }
  },
  {
   "cell_type": "code",
   "execution_count": 5,
   "outputs": [],
   "source": [
    "from IPython.utils import io\n",
    "import pandas as pd\n",
    "from XpressArchitect import Xpress, gsea"
   ],
   "metadata": {
    "collapsed": false,
    "pycharm": {
     "name": "#%%\n",
     "is_executing": false
    }
   }
  },
  {
   "cell_type": "markdown",
   "metadata": {},
   "source": [
    "Load the data"
   ]
  },
  {
   "cell_type": "code",
   "execution_count": 6,
   "metadata": {
    "pycharm": {
     "name": "#%%\n",
     "is_executing": false
    }
   },
   "outputs": [],
   "source": [
    "save_dir = \"/Users/coltongarelli/Desktop/testing_exprarch\"\n",
    "with io.capture_output() as captured:\n",
    "    gse71998 = Xpress.GEOXpress('GSE71998', save_dir);"
   ]
  },
  {
   "cell_type": "markdown",
   "source": [
    "Make groups"
   ],
   "metadata": {
    "collapsed": false,
    "pycharm": {
     "name": "#%% md\n"
    }
   }
  },
  {
   "cell_type": "code",
   "execution_count": 7,
   "metadata": {
    "pycharm": {
     "name": "#%%\n",
     "is_executing": false
    }
   },
   "outputs": [],
   "source": [
    "pbsd5 = gse71998.make_group('PBS_5d', 'title', 'PBS_d5')\n",
    "pbsd21 = gse71998.make_group('PBS_21d', 'title', 'PBS_d21')\n",
    "bleod5 = gse71998.make_group('bleo_5d', 'title', 'Bleo_d5')\n",
    "bleod21 = gse71998.make_group('bleo_21d', 'title', 'Bleo_d21')\n",
    "# bleo = gse71998.make_group(['bleo_5d', 'bleo_21d'], 'title' ,'Bleo')\n",
    "gse71998.update_groups(pd.concat([bleod5, bleod21, pbsd5, pbsd21], axis=1))"
   ]
  },
  {
   "cell_type": "code",
   "execution_count": 9,
   "outputs": [
    {
     "name": "stdout",
     "text": [
      "             GSM1849526  GSM1849527  GSM1849528  GSM1849529  GSM1849530  \\\n",
      "Gene symbol                                                               \n",
      "HIVEP3           -1.103      -0.166      -0.495      -1.323      -0.653   \n",
      "MIF4GD            0.825       0.966       0.796       0.936       0.966   \n",
      "SLITRK2          -0.021       1.305      -0.000      -0.000       0.925   \n",
      "LNX1              2.926       2.859       2.702       2.977       2.668   \n",
      "                 -0.179       0.167      -0.054       0.500       0.594   \n",
      "...                 ...         ...         ...         ...         ...   \n",
      "PIK3CD            0.047       0.752       0.633      -0.212      -0.212   \n",
      "ZCWPW2           -0.273      -0.914       0.061      -0.737      -0.680   \n",
      "CXCL16            3.428       3.744       3.439       3.134       3.310   \n",
      "SPICE1           -0.000      -0.000       0.459      -0.000       0.819   \n",
      "CDC73            -0.090       0.423       0.171       0.511      -0.048   \n",
      "\n",
      "             GSM1849516  GSM1849517  GSM1849518  GSM1849519  GSM1849520  \n",
      "Gene symbol                                                              \n",
      "HIVEP3           -0.054      -0.900      -0.057      -0.464      -0.275  \n",
      "MIF4GD            0.649       0.944       0.848       0.955       0.886  \n",
      "SLITRK2           0.011       0.472       0.350      -0.045       0.220  \n",
      "LNX1              2.581       2.889       3.023       3.068       2.852  \n",
      "                 -0.061       0.260       0.033       0.258       0.114  \n",
      "...                 ...         ...         ...         ...         ...  \n",
      "PIK3CD           -0.580      -0.721      -1.319      -1.042      -0.175  \n",
      "ZCWPW2            0.822       0.161      -0.669       0.168      -0.693  \n",
      "CXCL16            3.171       3.549       3.266       3.591       3.514  \n",
      "SPICE1            0.812      -0.000       0.109       0.819      -0.000  \n",
      "CDC73             0.415       0.332       0.612      -0.137       0.478  \n",
      "\n",
      "[41174 rows x 10 columns]\n",
      "['Bleomycin', 'Bleomycin', 'Bleomycin', 'Bleomycin', 'Bleomycin', 'PBS', 'PBS', 'PBS', 'PBS', 'PBS']\n"
     ],
     "output_type": "stream"
    },
    {
     "name": "stderr",
     "text": [
      "2020-05-04 13:05:34,555 Warning: dropping duplicated gene names, only keep the first values\n",
      "2020-05-04 13:05:34,571 Warning: Input data contains NA, filled NA with 0\n"
     ],
     "output_type": "stream"
    },
    {
     "data": {
      "text/plain": "<gseapy.gsea.GSEA at 0x20b5d8e90>"
     },
     "metadata": {},
     "output_type": "execute_result",
     "execution_count": 9
    }
   ],
   "source": [
    "d5 = pd.concat([gse71998.get_group_data('Bleo_d5') * -1, gse71998.get_group_data('PBS_d5') * -1], axis=1)\n",
    "gene_index = gse71998.eset.feature_data['Gene symbol']\n",
    "gene_index = gene_index.str.upper()\n",
    "d5 = d5.join(gene_index, how='inner')\n",
    "d5.set_index('Gene symbol', inplace=True)\n",
    "print(d5)\n",
    "d5_gsea = gsea.RunGSEA(save_dir, extension='gsea/day 5')\n",
    "classes = d5_gsea.construct_classes('Bleomycin', 'PBS', 5, 5)\n",
    "print(classes)\n",
    "d5_gsea.run_gsea(d5, classes, '../gsea_databases/msigdb_hallmarks.gmt')\n"
   ],
   "metadata": {
    "collapsed": false,
    "pycharm": {
     "name": "#%%\n",
     "is_executing": false
    }
   }
  },
  {
   "cell_type": "code",
   "execution_count": 10,
   "outputs": [
    {
     "name": "stdout",
     "text": [
      "             GSM1849531  GSM1849532  GSM1849533  GSM1849534  GSM1849535  \\\n",
      "Gene symbol                                                               \n",
      "HIVEP3           -0.550      -1.007       0.619      -0.994      -0.616   \n",
      "MIF4GD            0.880       0.761       0.817       1.048       0.822   \n",
      "SLITRK2           0.548       0.085       0.204       0.629      -1.157   \n",
      "LNX1              2.231       2.767       2.588       2.759       2.755   \n",
      "                  0.284      -0.068       0.440      -0.018      -0.218   \n",
      "...                 ...         ...         ...         ...         ...   \n",
      "PIK3CD            0.184      -0.172      -0.190      -0.085       0.016   \n",
      "ZCWPW2           -0.000      -0.249       0.018      -0.524      -0.727   \n",
      "CXCL16            2.974       3.869       3.853       3.861       4.064   \n",
      "SPICE1            0.049      -0.000      -0.000       0.629      -0.046   \n",
      "CDC73             0.561       0.773       0.227      -0.218       0.033   \n",
      "\n",
      "             GSM1849521  GSM1849522  GSM1849523  GSM1849524  GSM1849525  \n",
      "Gene symbol                                                              \n",
      "HIVEP3           -0.206      -0.902      -1.351      -0.643      -1.309  \n",
      "MIF4GD            0.971       1.382       1.285       1.056       1.156  \n",
      "SLITRK2          -0.586       0.623       0.160      -0.114      -0.514  \n",
      "LNX1              2.798       3.186       2.926       2.725       2.948  \n",
      "                  0.147       0.458       0.402      -0.073       0.356  \n",
      "...                 ...         ...         ...         ...         ...  \n",
      "PIK3CD           -0.646      -0.775      -0.563      -0.755      -1.002  \n",
      "ZCWPW2            0.846      -0.389      -1.134      -0.237      -0.249  \n",
      "CXCL16            3.274       3.264       3.466       3.063       3.268  \n",
      "SPICE1            0.236      -0.000      -0.000      -0.000       0.652  \n",
      "CDC73            -0.062      -0.033      -0.106       0.294       0.722  \n",
      "\n",
      "[41174 rows x 10 columns]\n",
      "['Bleomycin', 'Bleomycin', 'Bleomycin', 'Bleomycin', 'Bleomycin', 'PBS', 'PBS', 'PBS', 'PBS', 'PBS']\n"
     ],
     "output_type": "stream"
    },
    {
     "name": "stderr",
     "text": [
      "2020-05-04 13:07:00,790 Warning: dropping duplicated gene names, only keep the first values\n",
      "2020-05-04 13:07:00,814 Warning: Input data contains NA, filled NA with 0\n"
     ],
     "output_type": "stream"
    },
    {
     "data": {
      "text/plain": "<gseapy.gsea.GSEA at 0x214431fd0>"
     },
     "metadata": {},
     "output_type": "execute_result",
     "execution_count": 10
    }
   ],
   "source": [
    "d21 = pd.concat([gse71998.get_group_data('Bleo_d21') * -1, gse71998.get_group_data('PBS_d21') * -1], axis=1)\n",
    "d21 = d21.join(gene_index, how='inner')\n",
    "d21.set_index('Gene symbol', inplace=True)\n",
    "print(d21)\n",
    "d21_gsea = gsea.RunGSEA(save_dir, extension='gsea/day 21')\n",
    "classes = d21_gsea.construct_classes('Bleomycin', 'PBS', 5, 5)\n",
    "print(classes)\n",
    "d21_gsea.run_gsea(d5, classes, '../gsea_databases/msigdb_hallmarks.gmt')"
   ],
   "metadata": {
    "collapsed": false,
    "pycharm": {
     "name": "#%%\n",
     "is_executing": false
    }
   }
  },
  {
   "cell_type": "code",
   "execution_count": null,
   "outputs": [],
   "source": [],
   "metadata": {
    "collapsed": false,
    "pycharm": {
     "name": "#%%\n"
    }
   }
  }
 ],
 "metadata": {
  "kernelspec": {
   "display_name": "ExprArch",
   "language": "python",
   "name": "exprarch"
  },
  "language_info": {
   "codemirror_mode": {
    "name": "ipython",
    "version": 3
   },
   "file_extension": ".py",
   "mimetype": "text/x-python",
   "name": "python",
   "nbconvert_exporter": "python",
   "pygments_lexer": "ipython3",
   "version": "3.7.6"
  },
  "pycharm": {
   "stem_cell": {
    "cell_type": "raw",
    "source": [],
    "metadata": {
     "collapsed": false
    }
   }
  }
 },
 "nbformat": 4,
 "nbformat_minor": 4
}