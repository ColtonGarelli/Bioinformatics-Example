{
 "cells": [
  {
   "cell_type": "markdown",
   "metadata": {
    "collapsed": true,
    "pycharm": {
     "name": "#%% md\n"
    }
   },
   "source": [
    "Stuff about the analysis"
   ]
  },
  {
   "cell_type": "code",
   "execution_count": 1,
   "metadata": {
    "pycharm": {
     "name": "#%%\n"
    }
   },
   "outputs": [
    {
     "name": "stderr",
     "output_type": "stream",
     "text": [
      "/Users/coltongarelli/anaconda3/envs/ExprArch/lib/python3.7/site-packages/rpy2/robjects/pandas2ri.py:14: FutureWarning: pandas.core.index is deprecated and will be removed in a future version.  The public classes are available in the top-level namespace.\n",
      "  from pandas.core.index import Index as PandasIndex\n",
      "R[write to console]: No methods found in package 'RSQLite' for request: 'dbListFields' when loading 'oligo'\n",
      "\n",
      "R[write to console]: No methods found in package 'RSQLite' for request: 'dbListFields' when loading 'lumi'\n",
      "\n"
     ]
    }
   ],
   "source": [
    "%matplotlib inline\n",
    "import matplotlib\n",
    "import matplotlib.pyplot as plt\n",
    "import pandas as pd\n",
    "from ExpressionTools import pyXset,  EsetPrep\n",
    "from VizTools import volcano"
   ]
  },
  {
   "cell_type": "code",
   "execution_count": 2,
   "metadata": {
    "pycharm": {
     "name": "#%%\n"
    }
   },
   "outputs": [
    {
     "name": "stderr",
     "output_type": "stream",
     "text": [
      "R[write to console]: Found 1 file(s)\n",
      "\n",
      "R[write to console]: GSE81071_series_matrix.txt.gz\n",
      "\n",
      "R[write to console]: Using locally cached version: data/GSE81071/GSE81071_series_matrix.txt.gz\n",
      "\n",
      "R[write to console]: Parsed with column specification:\n",
      "cols(\n",
      "  .default = col_double(),\n",
      "  ID_REF = col_character()\n",
      ")\n",
      "\n",
      "R[write to console]: See spec(...) for full column specifications.\n",
      "\n",
      "R[write to console]: Annotation GPL not available, so will use submitter GPL instead\n",
      "\n",
      "R[write to console]: Using locally cached version of GPL19983 found here:\n",
      "data/GSE81071/GPL19983.soft \n",
      "\n"
     ]
    }
   ],
   "source": [
    "prep = EsetPrep.GeoPrep(\"GSE81071\", \"data/GSE81071\")\n",
    "prep.load_geo()\n"
   ]
  },
  {
   "cell_type": "code",
   "execution_count": 3,
   "metadata": {},
   "outputs": [
    {
     "data": {
      "text/plain": [
       "array([[ 0.80587924,  2.4769318 ,  1.5747854 , ...,  0.44647994,\n",
       "         0.49297896,  0.20446866],\n",
       "       [ 2.0238402 ,  2.1612492 ,  2.3555453 , ...,  0.87956375,\n",
       "         1.42581602,  0.97506221],\n",
       "       [ 6.352953  ,  5.8851805 ,  6.045486  , ..., -0.04958195,\n",
       "         0.54319216, -0.22685148],\n",
       "       ...,\n",
       "       [ 4.3521414 ,  4.0144424 ,  2.750379  , ...,  1.15331793,\n",
       "         1.69636648,  1.03240267],\n",
       "       [ 6.9767294 ,  7.2071524 ,  7.027711  , ...,  0.69596142,\n",
       "         0.88793491,  0.99032909],\n",
       "       [ 1.89187251,  2.43857383,  1.55783043, ...,  0.57382672,\n",
       "        -0.06659769, -0.04406841]])"
      ]
     },
     "execution_count": 3,
     "metadata": {},
     "output_type": "execute_result"
    }
   ],
   "source": [
    "prep.eset.exprs"
   ]
  },
  {
   "cell_type": "code",
   "execution_count": 4,
   "metadata": {},
   "outputs": [],
   "source": [
    "batch_corrected = pd.read_csv(\"data/GSE81071/GSE81071_batch-corrected_matrix.txt\", sep='\\t')\n",
    "batch_corrected.pop('EntrezGeneID_at')\n",
    "batch_corrected.pop('Expressed')\n",
    "batch_corrected.pop('Description')\n",
    "batch_corrected.set_index('Symbol', inplace=True)\n",
    "prep.eset.exprs = batch_corrected\n",
    "xset = pyXset.PyXset(prep.eset)"
   ]
  },
  {
   "cell_type": "code",
   "execution_count": 5,
   "metadata": {},
   "outputs": [
    {
     "data": {
      "text/html": [
       "<div>\n",
       "<style scoped>\n",
       "    .dataframe tbody tr th:only-of-type {\n",
       "        vertical-align: middle;\n",
       "    }\n",
       "\n",
       "    .dataframe tbody tr th {\n",
       "        vertical-align: top;\n",
       "    }\n",
       "\n",
       "    .dataframe thead th {\n",
       "        text-align: right;\n",
       "    }\n",
       "</style>\n",
       "<table border=\"1\" class=\"dataframe\">\n",
       "  <thead>\n",
       "    <tr style=\"text-align: right;\">\n",
       "      <th></th>\n",
       "      <th>GSM2142137</th>\n",
       "      <th>GSM2142138</th>\n",
       "      <th>GSM2142139</th>\n",
       "      <th>GSM2142140</th>\n",
       "      <th>GSM2142141</th>\n",
       "      <th>GSM2142142</th>\n",
       "      <th>GSM2142143</th>\n",
       "      <th>GSM2142144</th>\n",
       "      <th>GSM2142145</th>\n",
       "      <th>GSM2142146</th>\n",
       "      <th>...</th>\n",
       "      <th>GSM3999348</th>\n",
       "      <th>GSM3999349</th>\n",
       "      <th>GSM3999351</th>\n",
       "      <th>GSM3999352</th>\n",
       "      <th>GSM3999353</th>\n",
       "      <th>GSM3999355</th>\n",
       "      <th>GSM3999356</th>\n",
       "      <th>GSM3999357</th>\n",
       "      <th>GSM3999359</th>\n",
       "      <th>GSM3999360</th>\n",
       "    </tr>\n",
       "  </thead>\n",
       "  <tbody>\n",
       "    <tr>\n",
       "      <th>DLE</th>\n",
       "      <td>False</td>\n",
       "      <td>False</td>\n",
       "      <td>False</td>\n",
       "      <td>False</td>\n",
       "      <td>False</td>\n",
       "      <td>False</td>\n",
       "      <td>False</td>\n",
       "      <td>True</td>\n",
       "      <td>True</td>\n",
       "      <td>True</td>\n",
       "      <td>...</td>\n",
       "      <td>False</td>\n",
       "      <td>False</td>\n",
       "      <td>False</td>\n",
       "      <td>False</td>\n",
       "      <td>False</td>\n",
       "      <td>False</td>\n",
       "      <td>False</td>\n",
       "      <td>False</td>\n",
       "      <td>False</td>\n",
       "      <td>False</td>\n",
       "    </tr>\n",
       "    <tr>\n",
       "      <th>Normal</th>\n",
       "      <td>True</td>\n",
       "      <td>True</td>\n",
       "      <td>True</td>\n",
       "      <td>True</td>\n",
       "      <td>True</td>\n",
       "      <td>True</td>\n",
       "      <td>True</td>\n",
       "      <td>False</td>\n",
       "      <td>False</td>\n",
       "      <td>False</td>\n",
       "      <td>...</td>\n",
       "      <td>False</td>\n",
       "      <td>False</td>\n",
       "      <td>False</td>\n",
       "      <td>False</td>\n",
       "      <td>False</td>\n",
       "      <td>False</td>\n",
       "      <td>False</td>\n",
       "      <td>False</td>\n",
       "      <td>False</td>\n",
       "      <td>False</td>\n",
       "    </tr>\n",
       "  </tbody>\n",
       "</table>\n",
       "<p>2 rows × 103 columns</p>\n",
       "</div>"
      ],
      "text/plain": [
       "       GSM2142137 GSM2142138 GSM2142139 GSM2142140 GSM2142141 GSM2142142  \\\n",
       "DLE         False      False      False      False      False      False   \n",
       "Normal       True       True       True       True       True       True   \n",
       "\n",
       "       GSM2142143 GSM2142144 GSM2142145 GSM2142146  ... GSM3999348 GSM3999349  \\\n",
       "DLE         False       True       True       True  ...      False      False   \n",
       "Normal       True      False      False      False  ...      False      False   \n",
       "\n",
       "       GSM3999351 GSM3999352 GSM3999353 GSM3999355 GSM3999356 GSM3999357  \\\n",
       "DLE         False      False      False      False      False      False   \n",
       "Normal      False      False      False      False      False      False   \n",
       "\n",
       "       GSM3999359 GSM3999360  \n",
       "DLE         False      False  \n",
       "Normal      False      False  \n",
       "\n",
       "[2 rows x 103 columns]"
      ]
     },
     "execution_count": 5,
     "metadata": {},
     "output_type": "execute_result"
    }
   ],
   "source": [
    "dle_filter = xset.search_pdata('DLE', 'DLE')\n",
    "xset.update_groups(dle_filter)\n",
    "normal_filter = xset.search_pdata('Normal', 'Normal')\n",
    "xset.update_groups(normal_filter)\n",
    "xset.groups"
   ]
  },
  {
   "cell_type": "markdown",
   "metadata": {
    "pycharm": {
     "name": "#%% md\n"
    }
   },
   "source": [
    "Let's try some QC now\n"
   ]
  },
  {
   "cell_type": "code",
   "execution_count": 6,
   "metadata": {},
   "outputs": [],
   "source": [
    "from VizTools import bar, density, plot_pca\n",
    "from AnalysisTools import pca\n",
    "import seaborn as sns"
   ]
  },
  {
   "cell_type": "code",
   "execution_count": 6,
   "metadata": {},
   "outputs": [],
   "source": []
  },
  {
   "cell_type": "markdown",
   "metadata": {},
   "source": [
    "Run the GSEA"
   ]
  },
  {
   "cell_type": "code",
   "execution_count": 7,
   "metadata": {
    "pycharm": {
     "name": "#%%\n"
    }
   },
   "outputs": [],
   "source": [
    "from AnalysisTools import gsea"
   ]
  },
  {
   "cell_type": "code",
   "execution_count": 8,
   "metadata": {},
   "outputs": [
    {
     "name": "stdout",
     "output_type": "stream",
     "text": [
      "querying 1-1000...done.\n",
      "querying 1001-2000...done.\n",
      "querying 2001-3000...done.\n",
      "querying 3001-4000...done.\n",
      "querying 4001-5000...done.\n",
      "querying 5001-6000...done.\n",
      "querying 6001-7000...done.\n",
      "querying 7001-8000...done.\n",
      "querying 8001-9000...done.\n",
      "querying 9001-10000...done.\n",
      "querying 10001-11000...done.\n",
      "querying 11001-12000...done.\n",
      "querying 12001-13000...done.\n",
      "querying 13001-14000...done.\n",
      "querying 14001-15000...done.\n",
      "querying 15001-16000...done.\n",
      "querying 16001-17000...done.\n",
      "querying 17001-18000...done.\n",
      "querying 18001-19000...done.\n",
      "querying 19001-20000...done.\n",
      "querying 20001-21000...done.\n",
      "querying 21001-22000...done.\n",
      "querying 22001-23000...done.\n",
      "querying 23001-24000...done.\n",
      "querying 24001-25000...done.\n",
      "querying 25001-25582...done.\n",
      "Finished.\n",
      "680 input query terms found no hit:\n",
      "\t['100127889', '100127974', '100128338', '100128364', '100128374', '100128573', '100129473', '1001294\n",
      "Pass \"returnall=True\" to return complete lists of duplicate or missing query terms.\n"
     ]
    },
    {
     "name": "stderr",
     "output_type": "stream",
     "text": [
      "/Users/coltongarelli/anaconda3/envs/ExprArch/lib/python3.7/site-packages/biothings_client/base.py:143: FutureWarning:\n",
      "\n",
      "pandas.io.json.json_normalize is deprecated, use pandas.json_normalize instead\n",
      "\n"
     ]
    }
   ],
   "source": [
    "xset.pdata\n",
    "for_gsea = xset.exprs.loc[:, dle_filter]\n",
    "\n",
    "for_gsea = for_gsea.join(xset.exprs.loc[:, normal_filter], how='inner')\n",
    "gene_translate = xset.translate_gene_ids([i.split('_at')[0] for i in for_gsea.index.to_list()], 'entrezgene', ['symbol'])"
   ]
  },
  {
   "cell_type": "code",
   "execution_count": 9,
   "metadata": {},
   "outputs": [
    {
     "name": "stdout",
     "output_type": "stream",
     "text": [
      "                    _id     _score      symbol notfound\n",
      "100009613_at  100009613  24.246126   LINC02584      NaN\n",
      "100009676_at  100009676  24.248596  ZBTB11-AS1      NaN\n",
      "10000_at          10000  23.455528        AKT3      NaN\n",
      "10001_at          10001  24.247318        MED6      NaN\n",
      "10002_at          10002  24.247318       NR2E3      NaN\n",
      "...                 ...        ...         ...      ...\n",
      "9993_at            9993  23.456963       DGCR2      NaN\n",
      "9994_at            9994  24.248596    CASP8AP2      NaN\n",
      "9997_at            9997  24.246126        SCO2      NaN\n",
      "999_at              999  22.933994        CDH1      NaN\n",
      "9_at                  9  24.248741        NAT1      NaN\n",
      "\n",
      "[25582 rows x 4 columns]\n",
      "            GSM2142144  GSM2142145  GSM2142146  GSM2142147  GSM2142148  \\\n",
      "symbol                                                                   \n",
      "LINC02584     1.227199    3.141701    1.534635    1.496193    1.042947   \n",
      "ZBTB11-AS1    2.452342    3.303168    2.719499    2.344242    2.695080   \n",
      "AKT3          5.759767    5.028970    5.863587    5.943995    5.827744   \n",
      "MED6          5.925770    3.102510    3.800333    5.329334    5.801320   \n",
      "NR2E3         1.381046    2.060507    1.113217    1.354658    1.621435   \n",
      "...                ...         ...         ...         ...         ...   \n",
      "DGCR2         3.094780    2.829727    4.319818    3.145741    3.704640   \n",
      "CASP8AP2      4.317125    3.547673    4.252427    3.872868    4.662590   \n",
      "SCO2          3.881028    5.010828    4.739446    4.637754    4.676528   \n",
      "CDH1          4.610564    4.637510    5.506427    6.460052    7.184388   \n",
      "NAT1          2.787854    2.918257    2.809805    2.337836    2.416474   \n",
      "\n",
      "            GSM2142149  GSM2142150  GSM2142151  GSM2142152  GSM2142153  ...  \\\n",
      "symbol                                                                  ...   \n",
      "LINC02584     0.738994    0.885567    0.861920    1.200581    1.522462  ...   \n",
      "ZBTB11-AS1    1.898715    2.320480    1.675682    1.985330    1.764476  ...   \n",
      "AKT3          6.405654    6.021930    5.808313    5.459997    6.441048  ...   \n",
      "MED6          5.902037    5.262110    5.522488    5.636843    5.176507  ...   \n",
      "NR2E3         1.577598    1.659046    1.719026    1.356494    1.377341  ...   \n",
      "...                ...         ...         ...         ...         ...  ...   \n",
      "DGCR2         3.662282    3.782870    3.925421    3.484464    3.202060  ...   \n",
      "CASP8AP2      5.077761    4.437697    4.400941    3.936599    4.011727  ...   \n",
      "SCO2          4.529522    4.583528    4.741682    4.421424    4.443853  ...   \n",
      "CDH1          6.480022    6.497234    6.556963    6.800662    6.821072  ...   \n",
      "NAT1          2.255691    3.160516    2.158227    2.716852    2.300244  ...   \n",
      "\n",
      "            GSM2142140  GSM2142141  GSM2142142  GSM2142143  GSM3999298  \\\n",
      "symbol                                                                   \n",
      "LINC02584     2.027717    1.775400    2.099926    1.338203    0.256979   \n",
      "ZBTB11-AS1    2.857604    2.228298    2.340079    2.828971    0.594298   \n",
      "AKT3          5.618555    6.338659    6.286871    5.231762    1.543685   \n",
      "MED6          5.801836    4.848281    5.074375    5.428153    0.060828   \n",
      "NR2E3         1.005101    1.589443    1.319782    1.015254    0.634008   \n",
      "...                ...         ...         ...         ...         ...   \n",
      "DGCR2         3.741477    3.841253    3.343707    4.630638    0.520244   \n",
      "CASP8AP2      5.449666    3.778412    3.688543    4.959656   -0.121124   \n",
      "SCO2          2.891739    2.620113    2.817684    2.369489    1.496013   \n",
      "CDH1          7.657038    6.503683    6.739395    8.267956    1.468143   \n",
      "NAT1          2.752793    2.223143    2.296313    2.025145    0.192006   \n",
      "\n",
      "            GSM3999300  GSM3999301  GSM3999303  GSM3999304  GSM3999306  \n",
      "symbol                                                                  \n",
      "LINC02584     0.695103    0.508016    0.500125   -0.020487    0.510125  \n",
      "ZBTB11-AS1    0.293968    0.892213    0.523145    0.821581    1.121442  \n",
      "AKT3          0.557388    0.212365    0.371904    0.534833    0.365528  \n",
      "MED6          0.727139    0.470243    1.372163    1.084740    0.776218  \n",
      "NR2E3         0.379981    0.798882    0.342734   -0.045752    0.442625  \n",
      "...                ...         ...         ...         ...         ...  \n",
      "DGCR2         0.271052    0.554987    0.588610    0.470730    0.822372  \n",
      "CASP8AP2     -0.216502   -0.089433    0.331922   -0.207238    0.104417  \n",
      "SCO2          1.783905    1.939791    2.337568    1.776796    1.607315  \n",
      "CDH1          1.910198    1.922848    2.661172    3.420326    1.392215  \n",
      "NAT1          0.678425    0.137808   -0.080040   -0.026917    0.225846  \n",
      "\n",
      "[25582 rows x 60 columns]\n"
     ]
    }
   ],
   "source": [
    "# %tb\n",
    "genes = gene_translate.copy()\n",
    "genes.index = [i+'_at' for i in gene_translate.index]\n",
    "print(genes)\n",
    "gene_translate_trunk = genes.loc[:, 'symbol']\n",
    "for_gsea = for_gsea.join(gene_translate_trunk, how='inner')\n",
    "for_gsea.set_index('symbol', inplace=True)\n",
    "print(for_gsea)\n",
    "# GSE81071_gsea.run_gsea(for_gsea, classes)"
   ]
  },
  {
   "cell_type": "code",
   "execution_count": 10,
   "metadata": {},
   "outputs": [
    {
     "name": "stderr",
     "output_type": "stream",
     "text": [
      "2020-05-28 13:56:19,024 Warning: dropping duplicated gene names, only keep the first values\n",
      "2020-05-28 13:56:19,039 Warning: Input data contains NA, filled NA with 0\n"
     ]
    },
    {
     "data": {
      "text/plain": [
       "<gseapy.gsea.GSEA at 0x132eca790>"
      ]
     },
     "execution_count": 10,
     "metadata": {},
     "output_type": "execute_result"
    }
   ],
   "source": [
    "from AnalysisTools import gsea\n",
    "GSE81071_gsea = gsea.GSEAnalysis(\".\", '/GSE81071/gsea')\n",
    "classes = GSE81071_gsea.construct_classes('DLE', 'Healthy', len([i for i in dle_filter.to_list() if i]), len([i for i in normal_filter.to_list() if i]))\n",
    "\n",
    "GSE81071_gsea.run_gsea(for_gsea, classes)"
   ]
  },
  {
   "cell_type": "code",
   "execution_count": 10,
   "metadata": {},
   "outputs": [],
   "source": []
  }
 ],
 "metadata": {
  "kernelspec": {
   "display_name": "Python 3.8.2 ('bioinformatics': venv)",
   "language": "python",
   "name": "python3"
  },
  "language_info": {
   "codemirror_mode": {
    "name": "ipython",
    "version": 3
   },
   "file_extension": ".py",
   "mimetype": "text/x-python",
   "name": "python",
   "nbconvert_exporter": "python",
   "pygments_lexer": "ipython3",
   "version": "3.8.2"
  },
  "vscode": {
   "interpreter": {
    "hash": "a37d827e244f0de0266ea3ae33214c73dcb422088761969f3c4f7066d02ba61d"
   }
  }
 },
 "nbformat": 4,
 "nbformat_minor": 1
}
