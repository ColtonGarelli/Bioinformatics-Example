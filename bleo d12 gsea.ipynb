{
 "cells": [
  {
   "cell_type": "code",
   "execution_count": null,
   "metadata": {},
   "outputs": [],
   "source": [
    "# OLD"
   ]
  },
  {
   "cell_type": "code",
   "execution_count": 11,
   "metadata": {
    "pycharm": {
     "is_executing": true
    }
   },
   "outputs": [],
   "source": [
    "import pandas as pd\n",
    "import numpy as np\n",
    "from VizXpress import gsea, dott_plot\n",
    "# !pip install mygene\n",
    "# import mygene\n",
    "import gseapy\n",
    "import matplotlib.pyplot as plt"
   ]
  },
  {
   "cell_type": "code",
   "execution_count": 1,
   "metadata": {
    "pycharm": {
     "name": "#%%\n"
    }
   },
   "outputs": [
    {
     "ename": "NameError",
     "evalue": "name 'pd' is not defined",
     "output_type": "error",
     "traceback": [
      "\u001B[0;31m---------------------------------------------------------------------------\u001B[0m",
      "\u001B[0;31mNameError\u001B[0m                                 Traceback (most recent call last)",
      "\u001B[0;32m<ipython-input-1-6c48d98be440>\u001B[0m in \u001B[0;36m<module>\u001B[0;34m\u001B[0m\n\u001B[0;32m----> 1\u001B[0;31m \u001B[0mdf\u001B[0m \u001B[0;34m=\u001B[0m \u001B[0mpd\u001B[0m\u001B[0;34m.\u001B[0m\u001B[0mread_csv\u001B[0m\u001B[0;34m(\u001B[0m\u001B[0;34m'/Users/coltongarelli/Desktop/bleo paper updates/new bleo data normed counts.csv'\u001B[0m\u001B[0;34m)\u001B[0m\u001B[0;34m\u001B[0m\u001B[0;34m\u001B[0m\u001B[0m\n\u001B[0m\u001B[1;32m      2\u001B[0m \u001B[0mdf\u001B[0m\u001B[0;34m.\u001B[0m\u001B[0mgroupby\u001B[0m\u001B[0;34m(\u001B[0m\u001B[0;34m'Gene Symbol'\u001B[0m\u001B[0;34m,\u001B[0m \u001B[0mas_index\u001B[0m\u001B[0;34m=\u001B[0m\u001B[0;32mFalse\u001B[0m\u001B[0;34m)\u001B[0m\u001B[0;34m.\u001B[0m\u001B[0mmean\u001B[0m\u001B[0;34m(\u001B[0m\u001B[0;34m)\u001B[0m\u001B[0;34m\u001B[0m\u001B[0;34m\u001B[0m\u001B[0m\n\u001B[1;32m      3\u001B[0m \u001B[0mdf\u001B[0m\u001B[0;34m.\u001B[0m\u001B[0mset_index\u001B[0m\u001B[0;34m(\u001B[0m\u001B[0;34m'Gene Symbol'\u001B[0m\u001B[0;34m,\u001B[0m \u001B[0minplace\u001B[0m\u001B[0;34m=\u001B[0m\u001B[0;32mTrue\u001B[0m\u001B[0;34m)\u001B[0m\u001B[0;34m\u001B[0m\u001B[0;34m\u001B[0m\u001B[0m\n\u001B[1;32m      4\u001B[0m \u001B[0mdf\u001B[0m\u001B[0;34m.\u001B[0m\u001B[0mindex\u001B[0m \u001B[0;34m=\u001B[0m \u001B[0mdf\u001B[0m\u001B[0;34m.\u001B[0m\u001B[0mindex\u001B[0m\u001B[0;34m.\u001B[0m\u001B[0mstr\u001B[0m\u001B[0;34m.\u001B[0m\u001B[0mupper\u001B[0m\u001B[0;34m(\u001B[0m\u001B[0;34m)\u001B[0m\u001B[0;34m\u001B[0m\u001B[0;34m\u001B[0m\u001B[0m\n\u001B[1;32m      5\u001B[0m \u001B[0;34m\u001B[0m\u001B[0m\n",
      "\u001B[0;31mNameError\u001B[0m: name 'pd' is not defined"
     ]
    }
   ],
   "source": [
    "df = pd.read_csv('/Users/coltongarelli/Desktop/bleo paper updates/new bleo data normed counts.csv')\n",
    "df.groupby('Gene Symbol', as_index=False).mean()\n",
    "df.set_index('Gene Symbol', inplace=True)\n",
    "df.index = df.index.str.upper()"
   ]
  },
  {
   "cell_type": "code",
   "execution_count": null,
   "metadata": {},
   "outputs": [],
   "source": []
  },
  {
   "cell_type": "code",
   "execution_count": null,
   "metadata": {
    "pycharm": {
     "is_executing": true
    }
   },
   "outputs": [],
   "source": [
    "df1 = df.loc[df.sum(axis=1) > 30]\n",
    "df1\n",
    "# df.sum(axis=1)\n",
    "# 24941 rows × 24 columns\n",
    "# df['MD12S06_B'].mean()\n",
    "# bp = df1.add(1).apply(np.log2).boxplot()\n",
    "# for tick in bp.get_xticklabels():\n",
    "#     tick.set_rotation(90)\n",
    "# bp\n",
    "cm = plt.get_cmap('twilight_shifted')\n",
    "bp = df1.add(1).apply(np.log2).plot(kind='kde', cmap=cm)\n",
    "bp.set_xlim((-3,12.5))\n",
    "plt.tight_layout()\n",
    "# for tick in bp.get_xticklabels():\n",
    "#     tick.set_rotation(90)\n",
    "bp"
   ]
  },
  {
   "cell_type": "code",
   "execution_count": 16,
   "metadata": {
    "pycharm": {
     "is_executing": true
    }
   },
   "outputs": [
    {
     "data": {
      "text/plain": [
       "<AxesSubplot:>"
      ]
     },
     "execution_count": 16,
     "metadata": {},
     "output_type": "execute_result"
    },
    {
     "data": {
      "image/png": "[encoded data removed]",
      "text/plain": [
       "<Figure size 432x288 with 1 Axes>"
      ]
     },
     "metadata": {},
     "output_type": "display_data"
    }
   ],
   "source": [
    "bp = df1.add(1).apply(np.log2).boxplot()\n",
    "for tick in bp.get_xticklabels():\n",
    "    tick.set_rotation(90)\n",
    "bp"
   ]
  },
  {
   "cell_type": "code",
   "execution_count": 17,
   "metadata": {
    "pycharm": {
     "is_executing": true
    }
   },
   "outputs": [],
   "source": [
    "from sklearn.preprocessing import quantile_transform"
   ]
  },
  {
   "cell_type": "code",
   "execution_count": 19,
   "metadata": {
    "pycharm": {
     "is_executing": true
    }
   },
   "outputs": [],
   "source": [
    "def normalize_quantiles(M, inplace=False):\n",
    "        \"\"\"\n",
    "        Note: replicates behavior of R function normalize.quantiles from library(\"preprocessCore\")\n",
    "\n",
    "        Reference:\n",
    "         [1] Bolstad et al., Bioinformatics 19(2), pp. 185-193, 2003\n",
    "\n",
    "        Adapted from https://github.com/andrewdyates/quantile_normalize\n",
    "        \"\"\"\n",
    "        if not inplace:\n",
    "            M = M.copy()\n",
    "\n",
    "        Q = M.argsort(axis=0)\n",
    "        m,n = M.shape\n",
    "\n",
    "        # compute quantile vector\n",
    "        quantiles = np.zeros(m)\n",
    "        for i in range(n):\n",
    "            quantiles += M[Q[:,i],i]\n",
    "        quantiles = quantiles / n\n",
    "\n",
    "        for i in range(n):\n",
    "            # Get equivalence classes; unique values == 0\n",
    "            dupes = np.zeros(m, dtype=np.int)\n",
    "            for j in range(m-1):\n",
    "                if M[Q[j,i],i]==M[Q[j+1,i],i]:\n",
    "                    dupes[j+1] = dupes[j]+1\n",
    "\n",
    "            # Replace column with quantile ranks\n",
    "            M[Q[:,i],i] = quantiles\n",
    "\n",
    "            # Average together equivalence classes\n",
    "            j = m-1\n",
    "            while j >= 0:\n",
    "                if dupes[j] == 0:\n",
    "                    j -= 1\n",
    "                else:\n",
    "                    idxs = Q[j-dupes[j]:j+1,i]\n",
    "                    M[idxs,i] = np.median(M[idxs,i])\n",
    "                    j -= 1 + dupes[j]\n",
    "            assert j == -1\n",
    "\n",
    "        if not inplace:\n",
    "            return M\n"
   ]
  },
  {
   "cell_type": "code",
   "execution_count": 22,
   "metadata": {},
   "outputs": [
    {
     "data": {
      "text/plain": [
       "<AxesSubplot:>"
      ]
     },
     "execution_count": 22,
     "metadata": {},
     "output_type": "execute_result"
    },
    {
     "data": {
      "image/png": "[encoded data removed]",
      "text/plain": [
       "<Figure size 432x288 with 1 Axes>"
      ]
     },
     "metadata": {},
     "output_type": "display_data"
    }
   ],
   "source": [
    "pd.DataFrame(normalize_quantiles(df1.to_numpy())).boxplot()"
   ]
  },
  {
   "cell_type": "code",
   "execution_count": null,
   "metadata": {
    "pycharm": {
     "is_executing": true
    }
   },
   "outputs": [],
   "source": [
    "pd.set_option('display.max_columns', None)\n",
    "df.describe()\n",
    "# MD28S01_C mean = 15.5\n",
    "# MD5S02_B mean = 27.5"
   ]
  },
  {
   "cell_type": "code",
   "execution_count": null,
   "metadata": {
    "pycharm": {
     "is_executing": true
    }
   },
   "outputs": [],
   "source": [
    "# df.pop('MD28S01_C')\n",
    "# df.pop('MD5S02_B')"
   ]
  },
  {
   "cell_type": "code",
   "execution_count": 26,
   "metadata": {
    "pycharm": {
     "is_executing": true
    }
   },
   "outputs": [],
   "source": [
    "\n",
    "bleo = df[[*df.columns[df.columns.str.contains('B')].to_list(),\n",
    "                  *df.columns[df.columns.str.contains('C')].to_list()]]\n",
    "cols = bleo.columns.str.replace('MD', 'Day')\n",
    "cols = cols.str.replace('S', ' ')\n",
    "cols = cols.str.replace('_B', ' Bleo')\n",
    "cols = cols.str.replace('_C', ' PBS')\n",
    "cols\n",
    "bleo.columns = cols"
   ]
  },
  {
   "cell_type": "code",
   "execution_count": null,
   "metadata": {
    "pycharm": {
     "is_executing": true
    }
   },
   "outputs": [],
   "source": [
    "# mg=mygene.MyGeneInfo()\n",
    "# entrez = mg.querymany(df.index.to_list(),fields='entrezgene', species='human', scopes='symbol', as_dataframe=True)\n",
    "\n"
   ]
  },
  {
   "cell_type": "code",
   "execution_count": 27,
   "metadata": {
    "pycharm": {
     "is_executing": true
    }
   },
   "outputs": [
    {
     "data": {
      "text/plain": [
       "Index(['Day9 03 Bleo', 'Day5 03 Bleo', 'Day12 06 Bleo', 'Day28 02 Bleo',\n",
       "       'Day21 06 Bleo', 'Day21 05 Bleo', 'Day16 02 Bleo', 'Day12 01 Bleo',\n",
       "       'Day9 01 Bleo', 'Day12 08 Bleo', 'Day16 03 Bleo', 'Day9 02 Bleo',\n",
       "       'Day28 06 Bleo', 'Day5 02 Bleo', 'Day12 05 Bleo', 'Day16 04 Bleo',\n",
       "       'Day21 04 Bleo', 'Day12 09 Bleo', 'Day21 03 PBS', 'Day28 01 PBS',\n",
       "       'Day9 04 PBS', 'Day12 04 PBS', 'Day12 08 PBS', 'Day12 03 PBS'],\n",
       "      dtype='object')"
      ]
     },
     "execution_count": 27,
     "metadata": {},
     "output_type": "execute_result"
    }
   ],
   "source": [
    "bleo = df[[*df.columns[df.columns.str.contains('B')].to_list(),\n",
    "                  *df.columns[df.columns.str.contains('C')].to_list()]]\n",
    "cols = bleo.columns.str.replace('MD', 'Day')\n",
    "cols = cols.str.replace('S', ' ')\n",
    "cols = cols.str.replace('_B', ' Bleo')\n",
    "cols = cols.str.replace('_C', ' PBS')\n",
    "bleo.columns = cols\n",
    "bleo.columns"
   ]
  },
  {
   "cell_type": "code",
   "execution_count": 30,
   "metadata": {
    "pycharm": {
     "is_executing": true
    }
   },
   "outputs": [
    {
     "data": {
      "text/html": [
       "<div>\n",
       "<style scoped>\n",
       "    .dataframe tbody tr th:only-of-type {\n",
       "        vertical-align: middle;\n",
       "    }\n",
       "\n",
       "    .dataframe tbody tr th {\n",
       "        vertical-align: top;\n",
       "    }\n",
       "\n",
       "    .dataframe thead th {\n",
       "        text-align: right;\n",
       "    }\n",
       "</style>\n",
       "<table border=\"1\" class=\"dataframe\">\n",
       "  <thead>\n",
       "    <tr style=\"text-align: right;\">\n",
       "      <th></th>\n",
       "    </tr>\n",
       "    <tr>\n",
       "      <th>Gene Symbol</th>\n",
       "    </tr>\n",
       "  </thead>\n",
       "  <tbody>\n",
       "    <tr>\n",
       "      <th>0610005C13RIK</th>\n",
       "    </tr>\n",
       "    <tr>\n",
       "      <th>0610009B22RIK</th>\n",
       "    </tr>\n",
       "    <tr>\n",
       "      <th>0610009E02RIK</th>\n",
       "    </tr>\n",
       "    <tr>\n",
       "      <th>0610009L18RIK</th>\n",
       "    </tr>\n",
       "    <tr>\n",
       "      <th>0610010F05RIK</th>\n",
       "    </tr>\n",
       "    <tr>\n",
       "      <th>...</th>\n",
       "    </tr>\n",
       "    <tr>\n",
       "      <th>N-R5S77</th>\n",
       "    </tr>\n",
       "    <tr>\n",
       "      <th>N-R5S88</th>\n",
       "    </tr>\n",
       "    <tr>\n",
       "      <th>N-R5S96</th>\n",
       "    </tr>\n",
       "    <tr>\n",
       "      <th>N-TSAGA9</th>\n",
       "    </tr>\n",
       "    <tr>\n",
       "      <th>N-TSTGA1</th>\n",
       "    </tr>\n",
       "  </tbody>\n",
       "</table>\n",
       "<p>24941 rows × 0 columns</p>\n",
       "</div>"
      ],
      "text/plain": [
       "Empty DataFrame\n",
       "Columns: []\n",
       "Index: [0610005C13RIK, 0610009B22RIK, 0610009E02RIK, 0610009L18RIK, 0610010F05RIK, 0610010K14RIK, 0610012G03RIK, 0610030E20RIK, 0610033M10RIK, 0610038B21RIK, 0610040B10RIK, 0610040J01RIK, 0610043K17RIK, 1110002E22RIK, 1110002J07RIK, 1110002L01RIK, 1110002O04RIK, 1110003F10RIK, 1110004F10RIK, 1110006O24RIK, 1110008P14RIK, 1110012L19RIK, 1110013H19RIK, 1110017D15RIK, 1110019D14RIK, 1110020A21RIK, 1110025L11RIK, 1110025M09RIK, 1110028F11RIK, 1110032A03RIK, 1110035H17RIK, 1110038B12RIK, 1110038F14RIK, 1110046J04RIK, 1110051M20RIK, 1110059E24RIK, 1110059G10RIK, 1110065P20RIK, 1190001M18RIK, 1190005I06RIK, 1190007I07RIK, 1200007C13RIK, 1300002E11RIK, 1300014J16RIK, 1300017J02RIK, 1500002C15RIK, 1500002F19RIK, 1500004A13RIK, 1500005C15RIK, 1500009L16RIK, 1500011B03RIK, 1500015A07RIK, 1500026H17RIK, 1600002D24RIK, 1600010M07RIK, 1600012H06RIK, 1600014C10RIK, 1600020E01RIK, 1600022D10RIK, 1600023N17RIK, 1700001C19RIK, 1700001G17RIK, 1700001J11RIK, 1700001L05RIK, 1700001O22RIK, 1700003E16RIK, 1700003G18RIK, 1700003M07RIK, 1700003N22RIK, 1700006J14RIK, 1700007E05RIK, 1700007K13RIK, 1700007L15RIK, 1700008J07RIK, 1700009J07RIK, 1700010I14RIK, 1700012D14RIK, 1700012D16RIK, 1700012P22RIK, 1700015I17RIK, 1700016H13RIK, 1700017B05RIK, 1700017M07RIK, 1700018L02RIK, 1700019C18RIK, 1700019D03RIK, 1700020D05RIK, 1700022I11RIK, 1700022N22RIK, 1700023B13RIK, 1700023H06RIK, 1700025G04RIK, 1700028E10RIK, 1700028J19RIK, 1700028K03RIK, 1700028N14RIK, 1700029H14RIK, 1700029I15RIK, 1700029J07RIK, 1700030C10RIK, ...]\n",
       "\n",
       "[24941 rows x 0 columns]"
      ]
     },
     "execution_count": 30,
     "metadata": {},
     "output_type": "execute_result"
    }
   ],
   "source": [
    "bleo = df[[*df.columns[df.columns.str.contains('B')].to_list(),\n",
    "                  *df.columns[df.columns.str.contains('C')].to_list()]]\n",
    "d5 = bleo[[*bleo.columns[bleo.columns.str.contains('Day5')].to_list()]]\n",
    "d5 = d5[[*d5.columns[d5.columns.str.contains('Bleo')].to_list(),\n",
    "                  *d5.columns[d5.columns.str.contains('PBS')].to_list()]]\n",
    "d9 = bleo[[*bleo.columns[bleo.columns.str.contains('Day9')].to_list()]]\n",
    "d9 = d9[[*d9.columns[d9.columns.str.contains('Bleo')].to_list(),\n",
    "                  *d9.columns[d9.columns.str.contains('PBS')].to_list()]]\n",
    "d12 = bleo[[*bleo.columns[bleo.columns.str.contains('Day12')].to_list()]]\n",
    "d12 = d12[[*d12.columns[d12.columns.str.contains('Bleo')].to_list(),\n",
    "                  *d12.columns[d12.columns.str.contains('PBS')].to_list()]]\n",
    "\n",
    "d21 = bleo[[*bleo.columns[bleo.columns.str.contains('Day21')].to_list()]]\n",
    "d21 = d21[[*d21.columns[d21.columns.str.contains('Bleo')].to_list(),\n",
    "                  *d21.columns[d21.columns.str.contains('PBS')].to_list()]]\n",
    "\n",
    "d28 = bleo[[*bleo.columns[bleo.columns.str.contains('Day28')].to_list()]]\n",
    "d28 = d28[[*d28.columns[d28.columns.str.contains('Bleo')].to_list(),\n",
    "                  *d28.columns[d28.columns.str.contains('PBS')].to_list()]]\n",
    "d12"
   ]
  },
  {
   "cell_type": "code",
   "execution_count": null,
   "metadata": {
    "pycharm": {
     "is_executing": true
    }
   },
   "outputs": [],
   "source": [
    "d9g = gseapy.gsea(d9, '/Users/coltongarelli/pyLibraries/vizxpress/VizXpress/gsea_databases/msigdb_hallmarks.gmt', [*['Bleo']*3, *['Healthy']*1],\n",
    "                  outdir='/Users/coltongarelli/Desktop/121020 bleo gsea/d9/')\n",
    "d12g = gseapy.gsea(d12, '/Users/coltongarelli/pyLibraries/vizxpress/VizXpress/gsea_databases/msigdb_hallmarks.gmt', [*['Bleo']*5, *['Healthy']*3],\n",
    "                  outdir='/Users/coltongarelli/Desktop/121020 bleo gsea/d12/')\n",
    "d21g = gseapy.gsea(d21, '/Users/coltongarelli/pyLibraries/vizxpress/VizXpress/gsea_databases/msigdb_hallmarks.gmt', [*['Bleo']*3, *['Healthy']*1],\n",
    "                  outdir='/Users/coltongarelli/Desktop/121020 bleo gsea/d21/')\n",
    "d28g = gseapy.gsea(d28, '/Users/coltongarelli/pyLibraries/vizxpress/VizXpress/gsea_databases/msigdb_hallmarks.gmt', [*['Bleo']*2, *['Healthy']*1],\n",
    "                  outdir='/Users/coltongarelli/Desktop/121020 bleo gsea/d28/')"
   ]
  },
  {
   "cell_type": "code",
   "execution_count": null,
   "metadata": {
    "pycharm": {
     "is_executing": true,
     "name": "#%%\n"
    }
   },
   "outputs": [],
   "source": [
    "bleog = gseapy.gsea(bleo, '/Users/coltongarelli/pyLibraries/vizxpress/VizXpress/gsea_databases/msigdb_hallmarks.gmt', [*['Bleo']*18, *['Healthy']*6],\n",
    "                  outdir='/Users/coltongarelli/Desktop/121020 bleo gsea/bleo/')"
   ]
  },
  {
   "cell_type": "code",
   "execution_count": null,
   "metadata": {
    "pycharm": {
     "is_executing": true
    }
   },
   "outputs": [],
   "source": []
  },
  {
   "cell_type": "code",
   "execution_count": null,
   "metadata": {
    "pycharm": {
     "is_executing": true
    },
    "scrolled": true
   },
   "outputs": [],
   "source": [
    "d12g.res2d"
   ]
  },
  {
   "cell_type": "code",
   "execution_count": null,
   "metadata": {
    "pycharm": {
     "is_executing": true,
     "name": "#%%\n"
    },
    "scrolled": true
   },
   "outputs": [],
   "source": [
    "# d12g.res2d.to_csv('/Users/coltongarelli/Desktop/bleo paper updates/d12 bleo mouse hallmarks gsea.csv')\n",
    "bleogsea = gseapy.gsea(bleo, '/Users/coltongarelli/pyLibraries/vizxpress/VizXpress/gsea_databases/msigdb_hallmarks.gmt', [*['Bleo']*2, *['Healthy']*6],\n",
    "                  outdir='/Users/coltongarelli/Desktop/121020 bleo gsea2/all bleo/')"
   ]
  },
  {
   "cell_type": "code",
   "execution_count": null,
   "metadata": {
    "pycharm": {
     "is_executing": true
    }
   },
   "outputs": [],
   "source": [
    "ssresult = gseapy.ssgsea(bleo, gene_sets='/Users/coltongarelli/pyLibraries/vizxpress/VizXpress/gsea_databases/msigdb_hallmarks.gmt',\n",
    "                         outdir='/Users/coltongarelli/Desktop/121020 bleo ssgsea/', permutation_num=0, no_plot=True)"
   ]
  },
  {
   "cell_type": "code",
   "execution_count": null,
   "metadata": {
    "pycharm": {
     "is_executing": true
    }
   },
   "outputs": [],
   "source": [
    "from VizXpress import heatmap"
   ]
  },
  {
   "cell_type": "code",
   "execution_count": null,
   "metadata": {
    "pycharm": {
     "is_executing": true
    }
   },
   "outputs": [],
   "source": [
    "heatmap.sns_clustermap(ssresult.res2d, z=0)"
   ]
  },
  {
   "cell_type": "code",
   "execution_count": null,
   "metadata": {
    "pycharm": {
     "is_executing": true,
     "name": "#%%\n"
    }
   },
   "outputs": [],
   "source": [
    "\n",
    "\n",
    "from VizXpress import pca, plot_pca\n",
    "# d12 = df[[*df.columns[df.columns.str.contains('C')].to_list()]]\n",
    "pcs = pca.calculate_principal_components(ssresult.res2d)\n",
    "\n"
   ]
  },
  {
   "cell_type": "code",
   "execution_count": null,
   "metadata": {
    "pycharm": {
     "is_executing": true,
     "name": "#%%\n"
    }
   },
   "outputs": [],
   "source": [
    "plot_pca.plot_pca(pcs[0], pcs[1])\n"
   ]
  },
  {
   "cell_type": "code",
   "execution_count": null,
   "metadata": {
    "pycharm": {
     "is_executing": true,
     "name": "#%%\n"
    }
   },
   "outputs": [],
   "source": [
    "morphea = pd.read_csv('/Users/coltongarelli/Desktop/Richmond Lab/ DataFiles/Morphea_SSc_model_comparison/utsw morphea microarray normed.csv',index_col=0)\n",
    "morphea"
   ]
  },
  {
   "cell_type": "code",
   "execution_count": null,
   "metadata": {
    "pycharm": {
     "is_executing": true,
     "name": "#%%\n"
    },
    "scrolled": true
   },
   "outputs": [],
   "source": [
    "# morphea.index.astype(str)\n",
    "# inflam = morphea.loc[:,morphea.columns.str.contains('|'.join(['ib', 'aeb']), regex=True)]\n",
    "# inflam.index.astype(str)\n",
    "# # inflamm = pd.merge(inflam, morphea.loc[:,morphea.columns.str.contains('aeb')], left_index=True, right_index=True)\n",
    "# inflam"
   ]
  },
  {
   "cell_type": "code",
   "execution_count": null,
   "metadata": {
    "pycharm": {
     "is_executing": true,
     "name": "#%%\n"
    },
    "scrolled": true
   },
   "outputs": [],
   "source": [
    "comb = pd.read_csv('/Users/coltongarelli/Desktop/morphea for gsea.csv', index_col=0)\n",
    "comb"
   ]
  },
  {
   "cell_type": "code",
   "execution_count": null,
   "metadata": {
    "pycharm": {
     "is_executing": true
    }
   },
   "outputs": [],
   "source": [
    "utsw_gsea = gseapy.gsea(comb, '/Users/coltongarelli/pyLibraries/vizxpress/VizXpress/gsea_databases/msigdb_hallmarks.gmt', [*['Morphea']*9, *['Healthy']*10],\n",
    "                       outdir='/Users/coltongarelli/Desktop/121020 bleo data/morphea/')"
   ]
  },
  {
   "cell_type": "code",
   "execution_count": null,
   "metadata": {
    "pycharm": {
     "is_executing": true
    },
    "scrolled": true
   },
   "outputs": [],
   "source": [
    "utsw_gsea.res2d"
   ]
  },
  {
   "cell_type": "code",
   "execution_count": null,
   "metadata": {
    "pycharm": {
     "is_executing": true
    }
   },
   "outputs": [],
   "source": [
    "pc"
   ]
  },
  {
   "cell_type": "code",
   "execution_count": null,
   "metadata": {
    "pycharm": {
     "is_executing": true
    }
   },
   "outputs": [],
   "source": [
    "d5_gsea = pd.read_csv('/Users/coltongarelli/Desktop/Richmond Lab/ DataFiles/Morphea_SSc_model_comparison/gsea/GSE71998_day5_mice/msigdb_hallmarks.gmt/d5_bleo_gseapy.gsea.gene_set.report.csv',\n",
    "                     index_col=0)"
   ]
  },
  {
   "cell_type": "code",
   "execution_count": null,
   "metadata": {
    "pycharm": {
     "is_executing": true
    }
   },
   "outputs": [],
   "source": [
    "d21_gsea = pd.read_csv('/Users/coltongarelli/Desktop/Richmond Lab/ DataFiles/Morphea_SSc_model_comparison/gsea/GSE71998_day21_mice/msigdb_hallmarks.gmt/d21 gseapy.gsea.gene_set.report.csv',\n",
    "                      index_col=0)"
   ]
  },
  {
   "cell_type": "code",
   "execution_count": null,
   "metadata": {
    "pycharm": {
     "is_executing": true
    }
   },
   "outputs": [],
   "source": [
    "dssc = pd.read_csv('/Users/coltongarelli/Desktop/Richmond Lab/ DataFiles/Morphea_SSc_model_comparison/gsea/inflamm_dssc/msigdb_hallmarks/gseapy.gsea.gene_set.report.csv',\n",
    "                  index_col=0)"
   ]
  },
  {
   "cell_type": "code",
   "execution_count": null,
   "metadata": {
    "pycharm": {
     "is_executing": true
    }
   },
   "outputs": [],
   "source": [
    "lssc = pd.read_csv('/Users/coltongarelli/Desktop/Richmond Lab/ DataFiles/Morphea_SSc_model_comparison/gsea/inflamm_lssc/msigdb_hallmarks/gseapy.gsea.gene_set.report.csv',\n",
    "                  index_col=0)"
   ]
  },
  {
   "cell_type": "code",
   "execution_count": null,
   "metadata": {
    "pycharm": {
     "is_executing": true
    }
   },
   "outputs": [],
   "source": [
    "from importlib import reload\n",
    "reload(dott_plot)"
   ]
  },
  {
   "cell_type": "code",
   "execution_count": null,
   "metadata": {
    "pycharm": {
     "is_executing": true
    }
   },
   "outputs": [],
   "source": [
    "dp = dott_plot.dot_plot([d9g.res2d, d12g.res2d, d21g.res2d],\n",
    "                        names=['Day 9 mice', 'Day 12 mice', 'Day 21 mice', '', '', ''])"
   ]
  },
  {
   "cell_type": "code",
   "execution_count": null,
   "metadata": {
    "pycharm": {
     "is_executing": true
    }
   },
   "outputs": [],
   "source": [
    "dp = dott_plot.dot_plot([d5_gsea, d21_gsea, utsw_gsea.res2d, dssc, lssc],\n",
    "                        names=['Day 5 mice', 'Day 21 mice', 'Inflammatory Morphea', 'Inflammatory dSSc', 'Inflammatory lSSc', ''])"
   ]
  },
  {
   "cell_type": "markdown",
   "metadata": {},
   "source": [
    "Now let's pool the control samples\n"
   ]
  },
  {
   "cell_type": "code",
   "execution_count": null,
   "metadata": {
    "pycharm": {
     "is_executing": true
    }
   },
   "outputs": [],
   "source": [
    "d5p = bleo[[*bleo.columns[bleo.columns.str.contains('Day5|PBS')].to_list()]]\n",
    "d5p = d5p[[*d5p.columns[d5p.columns.str.contains('Bleo')].to_list(),\n",
    "                  *d5p.columns[d5p.columns.str.contains('PBS')].to_list()]]\n",
    "\n",
    "d9p = bleo[[*bleo.columns[bleo.columns.str.contains('Day9|PBS')].to_list()]]\n",
    "d9p = d9p[[*d9p.columns[d9p.columns.str.contains('Bleo')].to_list(),\n",
    "                  *d9p.columns[d9p.columns.str.contains('PBS')].to_list()]]\n",
    "\n",
    "d12p = bleo[[*bleo.columns[bleo.columns.str.contains('Day12|PBS')].to_list()]]\n",
    "d12p = d12p[[*d12p.columns[d12p.columns.str.contains('Bleo')].to_list(),\n",
    "                  *d12p.columns[d12p.columns.str.contains('PBS')].to_list()]]\n",
    "\n",
    "d21p = bleo[[*bleo.columns[bleo.columns.str.contains('Day21|PBS')].to_list()]]\n",
    "d21p = d21p[[*d21p.columns[d21p.columns.str.contains('Bleo')].to_list(),\n",
    "                  *d21p.columns[d21p.columns.str.contains('PBS')].to_list()]]\n",
    "\n",
    "d28p = bleo[[*bleo.columns[bleo.columns.str.contains('Day28|PBS')].to_list()]]\n",
    "d28p = d28p[[*d28p.columns[d28p.columns.str.contains('Bleo')].to_list(),\n",
    "                  *d28p.columns[d28p.columns.str.contains('PBS')].to_list()]]\n",
    "# bleo.columns\n",
    "\n",
    "d9p.columns"
   ]
  },
  {
   "cell_type": "code",
   "execution_count": null,
   "metadata": {
    "pycharm": {
     "is_executing": true
    }
   },
   "outputs": [],
   "source": [
    "d5gp = gseapy.gsea(d5p, '/Users/coltongarelli/pyLibraries/vizxpress/VizXpress/gsea_databases/msigdb_hallmarks.gmt', [*['Bleo']*2, *['Healthy']*6],\n",
    "                  outdir='/Users/coltongarelli/Desktop/121020 bleo gsea/pooled/d5/')\n",
    "d9gp = gseapy.gsea(d9p, '/Users/coltongarelli/pyLibraries/vizxpress/VizXpress/gsea_databases/msigdb_hallmarks.gmt', [*['Bleo']*3, *['Healthy']*6],\n",
    "                  outdir='/Users/coltongarelli/Desktop/121020 bleo gsea/pooled/d9/')\n",
    "d12gp = gseapy.gsea(d12p, '/Users/coltongarelli/pyLibraries/vizxpress/VizXpress/gsea_databases/msigdb_hallmarks.gmt', [*['Bleo']*5, *['Healthy']*6],\n",
    "                  outdir='/Users/coltongarelli/Desktop/121020 bleo gsea/pooled/d12/')\n",
    "d21gp = gseapy.gsea(d21p, '/Users/coltongarelli/pyLibraries/vizxpress/VizXpress/gsea_databases/msigdb_hallmarks.gmt', [*['Bleo']*3, *['Healthy']*6],\n",
    "                  outdir='/Users/coltongarelli/Desktop/121020 bleo gsea/pooled/d21/')\n",
    "d28gp = gseapy.gsea(d28p, '/Users/coltongarelli/pyLibraries/vizxpress/VizXpress/gsea_databases/msigdb_hallmarks.gmt', [*['Bleo']*2, *['Healthy']*6],\n",
    "                  outdir='/Users/coltongarelli/Desktop/121020 bleo gsea/pooled/d28/')"
   ]
  },
  {
   "cell_type": "code",
   "execution_count": null,
   "metadata": {
    "pycharm": {
     "is_executing": true
    },
    "scrolled": true
   },
   "outputs": [],
   "source": [
    "from importlib import reload\n",
    "reload(dott_plot)"
   ]
  },
  {
   "cell_type": "code",
   "execution_count": null,
   "metadata": {
    "pycharm": {
     "is_executing": true
    }
   },
   "outputs": [],
   "source": [
    "# dp_pool = dott_plot.dot_plot([d5_gsea, d12gp.res2d, d21_gsea, utsw_gsea.res2d, dssc, lssc],\n",
    "#                         names=['Day 5 mice', 'Day 12 mice', 'Day 21 mice','Inflammatory Morphea', 'Inflammatory dSSc', 'Inflammatory lSSc'],\n",
    "#                             title='Hallmark Gene-sets GSEA')\n",
    "dp_days = dott_plot.dot_plot([d5gp.res2d, d9gp.res2d, d12gp.res2d, d21gp.res2d, d28gp.res2d, utsw_gsea.res2d, dssc, lssc],\n",
    "                        names=['Day 5 mice', 'Day 9 mice', 'Day 12 mice', 'Day 21 mice','Day 28 mice',\n",
    "                               'Inflammatory Morphea', 'Inflammatory dSSc', 'Inflammatory lSSc'],\n",
    "                            title='Hallmark Gene-sets GSEA')\n",
    "# dp_pool[0].savefig('/Users/coltongarelli/Desktop/121020 bleo gsea/added d12 bleo to original fig (pooled controls).png')\n",
    "dp_days[0].savefig('/Users/coltongarelli/Desktop/121020 bleo gsea/121120/new data timecourse pooled.png')\n",
    "\n",
    "# dp[0].savefig('/Users/coltongarelli/Desktop/121020 bleo gsea/no d12 bleo (original fig).png')\n",
    "\n",
    "\n",
    "\n"
   ]
  },
  {
   "cell_type": "code",
   "execution_count": null,
   "metadata": {
    "pycharm": {
     "is_executing": true
    }
   },
   "outputs": [],
   "source": [
    "dp_no5 = dott_plot.dot_plot([d9gp.res2d, d12gp.res2d, d21gp.res2d, d28gp.res2d, utsw_gsea.res2d, dssc, lssc],\n",
    "                        names=['Day 9 mice', 'Day 12 mice', 'Day 21 mice','Day 28 mice',\n",
    "                               'Inflammatory Morphea', 'Inflammatory dSSc', 'Inflammatory lSSc'],\n",
    "                            title='Hallmark Gene-sets GSEA')\n",
    "dp_no5[0].savefig('/Users/coltongarelli/Desktop/121020 bleo gsea/121120/new data timecourse pooled no day 5.png')\n"
   ]
  }
 ],
 "metadata": {
  "kernelspec": {
   "display_name": "PyCharm (vizxpress)",
   "language": "python",
   "name": "pycharm-a2be3a8a"
  },
  "language_info": {
   "codemirror_mode": {
    "name": "ipython",
    "version": 3
   },
   "file_extension": ".py",
   "mimetype": "text/x-python",
   "name": "python",
   "nbconvert_exporter": "python",
   "pygments_lexer": "ipython3",
   "version": "3.8.2"
  }
 },
 "nbformat": 4,
 "nbformat_minor": 1
}