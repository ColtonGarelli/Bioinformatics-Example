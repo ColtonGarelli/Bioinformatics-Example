{
 "cells": [
  {
   "cell_type": "markdown",
   "metadata": {
    "collapsed": true,
    "pycharm": {
     "name": "#%% md\n"
    }
   },
   "source": [
    "GSE77361\n",
    "\n",
    "\n"
   ]
  },
  {
   "cell_type": "code",
   "execution_count": 1,
   "outputs": [
    {
     "name": "stderr",
     "output_type": "stream",
     "text": [
      "/Users/coltongarelli/anaconda3/envs/ExprArch/lib/python3.7/site-packages/rpy2/robjects/pandas2ri.py:14: FutureWarning: pandas.core.index is deprecated and will be removed in a future version.  The public classes are available in the top-level namespace.\n",
      "  from pandas.core.index import Index as PandasIndex\n",
      "R[write to console]: No methods found in package 'RSQLite' for request: 'dbListFields' when loading 'oligo'\n",
      "\n",
      "R[write to console]: No methods found in package 'RSQLite' for request: 'dbListFields' when loading 'lumi'\n",
      "\n"
     ]
    }
   ],
   "source": [
    "import matplotlib\n",
    "import matplotlib.pyplot as plt\n",
    "import pandas as pd\n",
    "from ExpressionTools import pyXset, pyEset, EsetPrep\n",
    "\n"
   ],
   "metadata": {
    "collapsed": false,
    "pycharm": {
     "name": "#%%\n"
    }
   }
  },
  {
   "cell_type": "code",
   "execution_count": 2,
   "outputs": [
    {
     "name": "stderr",
     "output_type": "stream",
     "text": [
      "R[write to console]: Found 1 file(s)\n",
      "\n",
      "R[write to console]: GSE77361_series_matrix.txt.gz\n",
      "\n",
      "R[write to console]: trying URL 'https://ftp.ncbi.nlm.nih.gov/geo/series/GSE77nnn/GSE77361/matrix/GSE77361_series_matrix.txt.gz'\n",
      "\n",
      "R[write to console]: Content type 'application/x-gzip'\n",
      "R[write to console]:  length 5978031 bytes (5.7 MB)\n",
      "\n",
      "R[write to console]: =\n",
      "R[write to console]: =\n",
      "R[write to console]: =\n",
      "R[write to console]: =\n",
      "R[write to console]: =\n",
      "R[write to console]: =\n",
      "R[write to console]: =\n",
      "R[write to console]: =\n",
      "R[write to console]: =\n",
      "R[write to console]: =\n",
      "R[write to console]: =\n",
      "R[write to console]: =\n",
      "R[write to console]: =\n",
      "R[write to console]: =\n",
      "R[write to console]: =\n",
      "R[write to console]: =\n",
      "R[write to console]: =\n",
      "R[write to console]: =\n",
      "R[write to console]: =\n",
      "R[write to console]: =\n",
      "R[write to console]: =\n",
      "R[write to console]: =\n",
      "R[write to console]: =\n",
      "R[write to console]: =\n",
      "R[write to console]: =\n",
      "R[write to console]: =\n",
      "R[write to console]: =\n",
      "R[write to console]: =\n",
      "R[write to console]: =\n",
      "R[write to console]: =\n",
      "R[write to console]: =\n",
      "R[write to console]: =\n",
      "R[write to console]: =\n",
      "R[write to console]: =\n",
      "R[write to console]: =\n",
      "R[write to console]: =\n",
      "R[write to console]: =\n",
      "R[write to console]: =\n",
      "R[write to console]: =\n",
      "R[write to console]: =\n",
      "R[write to console]: =\n",
      "R[write to console]: =\n",
      "R[write to console]: =\n",
      "R[write to console]: =\n",
      "R[write to console]: =\n",
      "R[write to console]: =\n",
      "R[write to console]: =\n",
      "R[write to console]: =\n",
      "R[write to console]: =\n",
      "R[write to console]: =\n",
      "R[write to console]: \n",
      "\n",
      "R[write to console]: downloaded 5.7 MB\n",
      "\n",
      "\n",
      "R[write to console]: Parsed with column specification:\n",
      "cols(\n",
      "  .default = col_double(),\n",
      "  ID_REF = col_character()\n",
      ")\n",
      "\n",
      "R[write to console]: See spec(...) for full column specifications.\n",
      "\n",
      "R[write to console]: File stored at: \n",
      "\n",
      "R[write to console]: data/GPL10558.annot.gz\n",
      "\n",
      "R[write to console]: Warning:\n",
      "R[write to console]:  13 parsing failures.\n",
      "  row     col               expected          actual         file\n",
      "29686 Gene ID no trailing characters ///283507       literal data\n",
      "29841 Gene ID no trailing characters ///2074         literal data\n",
      "30401 Gene ID no trailing characters ///27185///7257 literal data\n",
      "31184 Gene ID no trailing characters ///57592        literal data\n",
      "31271 Gene ID no trailing characters ///3199         literal data\n",
      "..... ....... ...................... ............... ............\n",
      "See problems(...) for more details.\n",
      "\n",
      "\n"
     ]
    }
   ],
   "source": [
    "prep = EsetPrep.GeoPrep(\"GSE77361\", \"data\")\n",
    "prep.load_geo()\n"
   ],
   "metadata": {
    "collapsed": false,
    "pycharm": {
     "name": "#%%\n"
    }
   }
  },
  {
   "cell_type": "code",
   "execution_count": 3,
   "outputs": [
    {
     "data": {
      "text/plain": "array([[21955.74125   , 19602.59292   , 20595.78792   , ...,\n        18831.26125   , 21729.68042   , 20359.57083   ],\n       [ 4628.585333  ,  5647.466125  ,  5433.936375  , ...,\n         6394.380625  ,  8286.364833  ,  4379.319     ],\n       [   64.66261292,    50.44083958,    49.91359625, ...,\n           48.18239458,    53.13588292,    57.15087833],\n       ...,\n       [   63.03689542,    72.6638125 ,    75.85152583, ...,\n           71.95238792,    73.4616325 ,    59.68258625],\n       [   62.55568542,    57.99021958,    59.57607333, ...,\n           62.44245375,    58.94035333,    60.16634917],\n       [   56.36540625,    60.19995417,    60.00231292, ...,\n           65.84752958,    67.15306875,    61.71302333]])"
     },
     "execution_count": 3,
     "metadata": {},
     "output_type": "execute_result"
    }
   ],
   "source": [
    "prep.eset.exprs"
   ],
   "metadata": {
    "collapsed": false,
    "pycharm": {
     "name": "#%%\n"
    }
   }
  },
  {
   "cell_type": "code",
   "execution_count": 4,
   "outputs": [],
   "source": [
    "xset = pyXset.PyXset(prep.eset)"
   ],
   "metadata": {
    "collapsed": false,
    "pycharm": {
     "name": "#%%\n"
    }
   }
  },
  {
   "cell_type": "code",
   "execution_count": 8,
   "outputs": [
    {
     "data": {
      "text/plain": "GSM2050702                 disease state: Uninflamed pemphigoid\nGSM2050703                 disease state: Uninflamed pemphigoig\nGSM2050704                 disease state: Uninflamed pemphigoid\nGSM2050705                 disease state: Uninflamed pemphigoig\nGSM2050706                 disease state: Uninflamed pemphigoid\nGSM2050707                 disease state: Uninflamed pemphigoig\nGSM2050708                               disease state: Control\nGSM2050709                               disease state: Control\nGSM2050710                               disease state: Control\nGSM2050711                               disease state: Control\nGSM2050712                               disease state: Control\nGSM2050713                   disease state: Inflamed pemphigoid\nGSM2050714                   disease state: Inflamed pemphigoid\nGSM2050715                   disease state: Inflamed pemphigoid\nGSM2050716                   disease state: Inflamed pemphigoid\nGSM2050717                   disease state: Inflamed pemphigoid\nGSM2050718                   disease state: Inflamed pemphigoid\nGSM2050719    disease state: Fibroblasts from control conjun...\nGSM2050720    disease state: Fibroblasts from control conjun...\nGSM2050721    disease state: Fibroblasts from uninflamed pem...\nGSM2050722    disease state: Fibroblasts from uninflamed pem...\nGSM2050723    disease state: Fibroblasts from inflamed pemph...\nGSM2050724    disease state: Fibroblasts from inflamed pemph...\nGSM2050725                               disease state: Control\nName: characteristics_ch1.2, dtype: object"
     },
     "execution_count": 8,
     "metadata": {},
     "output_type": "execute_result"
    }
   ],
   "source": [
    "xset.pdata.loc['characteristics_ch1.2', :]"
   ],
   "metadata": {
    "collapsed": false,
    "pycharm": {
     "name": "#%%\n"
    }
   }
  },
  {
   "cell_type": "code",
   "execution_count": 14,
   "outputs": [],
   "source": [
    "healthy = xset.search_pdata('disease state: Control', 'Healthy', 'characteristics_ch1.2')\n",
    "pemp = xset.search_pdata('disease state: Inflamed pemphigoid', 'Pemphigoid', 'characteristics_ch1.2')\n",
    "xset.update_groups(healthy)\n",
    "xset.update_groups(pemp)"
   ],
   "metadata": {
    "collapsed": false,
    "pycharm": {
     "name": "#%%\n"
    }
   }
  },
  {
   "cell_type": "code",
   "execution_count": 23,
   "outputs": [
    {
     "data": {
      "text/plain": "GSM2050702    False\nGSM2050703    False\nGSM2050704    False\nGSM2050705    False\nGSM2050706    False\nGSM2050707    False\nGSM2050708     True\nGSM2050709     True\nGSM2050710     True\nGSM2050711     True\nGSM2050712     True\nGSM2050713    False\nGSM2050714    False\nGSM2050715    False\nGSM2050716    False\nGSM2050717    False\nGSM2050718    False\nGSM2050719    False\nGSM2050720    False\nGSM2050721    False\nGSM2050722    False\nGSM2050723    False\nGSM2050724    False\nGSM2050725     True\nName: Healthy, dtype: bool"
     },
     "execution_count": 23,
     "metadata": {},
     "output_type": "execute_result"
    }
   ],
   "source": [
    "pemp\n",
    "healthy"
   ],
   "metadata": {
    "collapsed": false,
    "pycharm": {
     "name": "#%%\n"
    }
   }
  },
  {
   "cell_type": "code",
   "execution_count": null,
   "outputs": [],
   "source": [
    "pemp_analyze = xset.exprs.loc[:, pemp]\n",
    "pemp_analyze = pemp_analyze.join(xset.exprs.loc[:, healthy])\n",
    "pemp_analyze = pemp_analyze.join(xset.fdata.loc[:, 'Gene symbol'])"
   ],
   "metadata": {
    "collapsed": false,
    "pycharm": {
     "name": "#%%\n"
    }
   }
  },
  {
   "cell_type": "code",
   "execution_count": 19,
   "outputs": [],
   "source": [
    "pemp_analyze.set_index('Gene symbol', inplace=True)"
   ],
   "metadata": {
    "collapsed": false,
    "pycharm": {
     "name": "#%%\n"
    }
   }
  },
  {
   "cell_type": "code",
   "execution_count": 25,
   "outputs": [
    {
     "data": {
      "text/plain": "Index(['EEF1A1', 'GAPDH', '', 'SLC35E2', 'DUSP22', '', 'RPS28', 'IPO13', '',\n       'FAM86FP',\n       ...\n       '', 'LINC00293', '', '', 'LINC00173', '', '', '', '', 'LINC00173'],\n      dtype='object', name='Gene symbol', length=47231)"
     },
     "execution_count": 25,
     "metadata": {},
     "output_type": "execute_result"
    }
   ],
   "source": [
    "pemp_analyze.index"
   ],
   "metadata": {
    "collapsed": false,
    "pycharm": {
     "name": "#%%\n"
    }
   }
  },
  {
   "cell_type": "code",
   "execution_count": 20,
   "outputs": [],
   "source": [
    "from AnalysisTools import gsea"
   ],
   "metadata": {
    "collapsed": false,
    "pycharm": {
     "name": "#%%\n"
    }
   }
  },
  {
   "cell_type": "code",
   "execution_count": 21,
   "outputs": [
    {
     "name": "stderr",
     "output_type": "stream",
     "text": [
      "2020-05-28 13:52:57,553 Warning: dropping duplicated gene names, only keep the first values\n"
     ]
    },
    {
     "data": {
      "text/plain": "<gseapy.gsea.GSEA at 0x13f9c6e50>"
     },
     "execution_count": 21,
     "metadata": {},
     "output_type": "execute_result"
    }
   ],
   "source": [
    "pemp_gsea = gsea.GSEAnalysis(\".\", '/GSE77361/gsea')\n",
    "pemp_classes = pemp_gsea.construct_classes('Pemphigus', 'Healthy', len([i for i in pemp.to_list() if i]), len([i for i in healthy.to_list() if i]))\n",
    "pemp_gsea.run_gsea(pemp_analyze, pemp_classes)"
   ],
   "metadata": {
    "collapsed": false,
    "pycharm": {
     "name": "#%%\n"
    }
   }
  },
  {
   "cell_type": "code",
   "execution_count": null,
   "outputs": [],
   "source": [
    "\n"
   ],
   "metadata": {
    "collapsed": false,
    "pycharm": {
     "name": "#%%\n"
    }
   }
  }
 ],
 "metadata": {
  "kernelspec": {
   "name": "exprarch",
   "language": "python",
   "display_name": "ExprArch"
  },
  "language_info": {
   "codemirror_mode": {
    "name": "ipython",
    "version": 2
   },
   "file_extension": ".py",
   "mimetype": "text/x-python",
   "name": "python",
   "nbconvert_exporter": "python",
   "pygments_lexer": "ipython2",
   "version": "2.7.6"
  }
 },
 "nbformat": 4,
 "nbformat_minor": 0
}